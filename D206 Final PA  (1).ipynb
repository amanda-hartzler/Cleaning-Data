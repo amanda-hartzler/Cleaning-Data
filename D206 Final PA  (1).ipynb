{
 "cells": [
  {
   "cell_type": "code",
   "execution_count": 41,
   "id": "0a22c267",
   "metadata": {},
   "outputs": [
    {
     "data": {
      "text/html": [
       "<div>\n",
       "<style scoped>\n",
       "    .dataframe tbody tr th:only-of-type {\n",
       "        vertical-align: middle;\n",
       "    }\n",
       "\n",
       "    .dataframe tbody tr th {\n",
       "        vertical-align: top;\n",
       "    }\n",
       "\n",
       "    .dataframe thead th {\n",
       "        text-align: right;\n",
       "    }\n",
       "</style>\n",
       "<table border=\"1\" class=\"dataframe\">\n",
       "  <thead>\n",
       "    <tr style=\"text-align: right;\">\n",
       "      <th></th>\n",
       "      <th>Unnamed: 0</th>\n",
       "      <th>CaseOrder</th>\n",
       "      <th>Customer_id</th>\n",
       "      <th>Interaction</th>\n",
       "      <th>City</th>\n",
       "      <th>State</th>\n",
       "      <th>County</th>\n",
       "      <th>Zip</th>\n",
       "      <th>Lat</th>\n",
       "      <th>Lng</th>\n",
       "      <th>...</th>\n",
       "      <th>MonthlyCharge</th>\n",
       "      <th>Bandwidth_GB_Year</th>\n",
       "      <th>item1</th>\n",
       "      <th>item2</th>\n",
       "      <th>item3</th>\n",
       "      <th>item4</th>\n",
       "      <th>item5</th>\n",
       "      <th>item6</th>\n",
       "      <th>item7</th>\n",
       "      <th>item8</th>\n",
       "    </tr>\n",
       "  </thead>\n",
       "  <tbody>\n",
       "    <tr>\n",
       "      <th>0</th>\n",
       "      <td>1</td>\n",
       "      <td>1</td>\n",
       "      <td>K409198</td>\n",
       "      <td>aa90260b-4141-4a24-8e36-b04ce1f4f77b</td>\n",
       "      <td>Point Baker</td>\n",
       "      <td>AK</td>\n",
       "      <td>Prince of Wales-Hyder</td>\n",
       "      <td>99927</td>\n",
       "      <td>56.25100</td>\n",
       "      <td>-133.37571</td>\n",
       "      <td>...</td>\n",
       "      <td>171.449762</td>\n",
       "      <td>904.536110</td>\n",
       "      <td>5</td>\n",
       "      <td>5</td>\n",
       "      <td>5</td>\n",
       "      <td>3</td>\n",
       "      <td>4</td>\n",
       "      <td>4</td>\n",
       "      <td>3</td>\n",
       "      <td>4</td>\n",
       "    </tr>\n",
       "    <tr>\n",
       "      <th>1</th>\n",
       "      <td>2</td>\n",
       "      <td>2</td>\n",
       "      <td>S120509</td>\n",
       "      <td>fb76459f-c047-4a9d-8af9-e0f7d4ac2524</td>\n",
       "      <td>West Branch</td>\n",
       "      <td>MI</td>\n",
       "      <td>Ogemaw</td>\n",
       "      <td>48661</td>\n",
       "      <td>44.32893</td>\n",
       "      <td>-84.24080</td>\n",
       "      <td>...</td>\n",
       "      <td>242.948015</td>\n",
       "      <td>800.982766</td>\n",
       "      <td>3</td>\n",
       "      <td>4</td>\n",
       "      <td>3</td>\n",
       "      <td>3</td>\n",
       "      <td>4</td>\n",
       "      <td>3</td>\n",
       "      <td>4</td>\n",
       "      <td>4</td>\n",
       "    </tr>\n",
       "    <tr>\n",
       "      <th>2</th>\n",
       "      <td>3</td>\n",
       "      <td>3</td>\n",
       "      <td>K191035</td>\n",
       "      <td>344d114c-3736-4be5-98f7-c72c281e2d35</td>\n",
       "      <td>Yamhill</td>\n",
       "      <td>OR</td>\n",
       "      <td>Yamhill</td>\n",
       "      <td>97148</td>\n",
       "      <td>45.35589</td>\n",
       "      <td>-123.24657</td>\n",
       "      <td>...</td>\n",
       "      <td>159.440398</td>\n",
       "      <td>2054.706961</td>\n",
       "      <td>4</td>\n",
       "      <td>4</td>\n",
       "      <td>2</td>\n",
       "      <td>4</td>\n",
       "      <td>4</td>\n",
       "      <td>3</td>\n",
       "      <td>3</td>\n",
       "      <td>3</td>\n",
       "    </tr>\n",
       "    <tr>\n",
       "      <th>3</th>\n",
       "      <td>4</td>\n",
       "      <td>4</td>\n",
       "      <td>D90850</td>\n",
       "      <td>abfa2b40-2d43-4994-b15a-989b8c79e311</td>\n",
       "      <td>Del Mar</td>\n",
       "      <td>CA</td>\n",
       "      <td>San Diego</td>\n",
       "      <td>92014</td>\n",
       "      <td>32.96687</td>\n",
       "      <td>-117.24798</td>\n",
       "      <td>...</td>\n",
       "      <td>120.249493</td>\n",
       "      <td>2164.579412</td>\n",
       "      <td>4</td>\n",
       "      <td>4</td>\n",
       "      <td>4</td>\n",
       "      <td>2</td>\n",
       "      <td>5</td>\n",
       "      <td>4</td>\n",
       "      <td>3</td>\n",
       "      <td>3</td>\n",
       "    </tr>\n",
       "    <tr>\n",
       "      <th>4</th>\n",
       "      <td>5</td>\n",
       "      <td>5</td>\n",
       "      <td>K662701</td>\n",
       "      <td>68a861fd-0d20-4e51-a587-8a90407ee574</td>\n",
       "      <td>Needville</td>\n",
       "      <td>TX</td>\n",
       "      <td>Fort Bend</td>\n",
       "      <td>77461</td>\n",
       "      <td>29.38012</td>\n",
       "      <td>-95.80673</td>\n",
       "      <td>...</td>\n",
       "      <td>150.761216</td>\n",
       "      <td>271.493436</td>\n",
       "      <td>4</td>\n",
       "      <td>4</td>\n",
       "      <td>4</td>\n",
       "      <td>3</td>\n",
       "      <td>4</td>\n",
       "      <td>4</td>\n",
       "      <td>4</td>\n",
       "      <td>5</td>\n",
       "    </tr>\n",
       "  </tbody>\n",
       "</table>\n",
       "<p>5 rows × 52 columns</p>\n",
       "</div>"
      ],
      "text/plain": [
       "   Unnamed: 0  CaseOrder Customer_id                           Interaction  \\\n",
       "0           1          1     K409198  aa90260b-4141-4a24-8e36-b04ce1f4f77b   \n",
       "1           2          2     S120509  fb76459f-c047-4a9d-8af9-e0f7d4ac2524   \n",
       "2           3          3     K191035  344d114c-3736-4be5-98f7-c72c281e2d35   \n",
       "3           4          4      D90850  abfa2b40-2d43-4994-b15a-989b8c79e311   \n",
       "4           5          5     K662701  68a861fd-0d20-4e51-a587-8a90407ee574   \n",
       "\n",
       "          City State                 County    Zip       Lat        Lng  ...  \\\n",
       "0  Point Baker    AK  Prince of Wales-Hyder  99927  56.25100 -133.37571  ...   \n",
       "1  West Branch    MI                 Ogemaw  48661  44.32893  -84.24080  ...   \n",
       "2      Yamhill    OR                Yamhill  97148  45.35589 -123.24657  ...   \n",
       "3      Del Mar    CA              San Diego  92014  32.96687 -117.24798  ...   \n",
       "4    Needville    TX              Fort Bend  77461  29.38012  -95.80673  ...   \n",
       "\n",
       "   MonthlyCharge Bandwidth_GB_Year item1 item2  item3  item4 item5 item6  \\\n",
       "0     171.449762        904.536110     5     5      5      3     4     4   \n",
       "1     242.948015        800.982766     3     4      3      3     4     3   \n",
       "2     159.440398       2054.706961     4     4      2      4     4     3   \n",
       "3     120.249493       2164.579412     4     4      4      2     5     4   \n",
       "4     150.761216        271.493436     4     4      4      3     4     4   \n",
       "\n",
       "   item7 item8  \n",
       "0      3     4  \n",
       "1      4     4  \n",
       "2      3     3  \n",
       "3      3     3  \n",
       "4      4     5  \n",
       "\n",
       "[5 rows x 52 columns]"
      ]
     },
     "execution_count": 41,
     "metadata": {},
     "output_type": "execute_result"
    }
   ],
   "source": [
    "#import packages\n",
    "import pandas as pd \n",
    "import numpy as np\n",
    "import matplotlib.pyplot as plt\n",
    "import missingno as msno\n",
    "import seaborn as sns\n",
    "from sklearn.preprocessing import LabelEncoder\n",
    "from sklearn.decomposition import PCA\n",
    "\n",
    "#import data file & preview data \n",
    "df = pd.read_csv('/Users/Amanda.Hartzler/Desktop/Data_Analytics_Masters/D206/churn_raw_data.csv')\n",
    "df.head()"
   ]
  },
  {
   "cell_type": "code",
   "execution_count": 42,
   "id": "1cf3616a",
   "metadata": {},
   "outputs": [
    {
     "name": "stdout",
     "output_type": "stream",
     "text": [
      "<class 'pandas.core.frame.DataFrame'>\n",
      "RangeIndex: 10000 entries, 0 to 9999\n",
      "Data columns (total 52 columns):\n",
      " #   Column                Non-Null Count  Dtype  \n",
      "---  ------                --------------  -----  \n",
      " 0   Unnamed: 0            10000 non-null  int64  \n",
      " 1   CaseOrder             10000 non-null  int64  \n",
      " 2   Customer_id           10000 non-null  object \n",
      " 3   Interaction           10000 non-null  object \n",
      " 4   City                  10000 non-null  object \n",
      " 5   State                 10000 non-null  object \n",
      " 6   County                10000 non-null  object \n",
      " 7   Zip                   10000 non-null  int64  \n",
      " 8   Lat                   10000 non-null  float64\n",
      " 9   Lng                   10000 non-null  float64\n",
      " 10  Population            10000 non-null  int64  \n",
      " 11  Area                  10000 non-null  object \n",
      " 12  Timezone              10000 non-null  object \n",
      " 13  Job                   10000 non-null  object \n",
      " 14  Children              7505 non-null   float64\n",
      " 15  Age                   7525 non-null   float64\n",
      " 16  Education             10000 non-null  object \n",
      " 17  Employment            10000 non-null  object \n",
      " 18  Income                7510 non-null   float64\n",
      " 19  Marital               10000 non-null  object \n",
      " 20  Gender                10000 non-null  object \n",
      " 21  Churn                 10000 non-null  object \n",
      " 22  Outage_sec_perweek    10000 non-null  float64\n",
      " 23  Email                 10000 non-null  int64  \n",
      " 24  Contacts              10000 non-null  int64  \n",
      " 25  Yearly_equip_failure  10000 non-null  int64  \n",
      " 26  Techie                7523 non-null   object \n",
      " 27  Contract              10000 non-null  object \n",
      " 28  Port_modem            10000 non-null  object \n",
      " 29  Tablet                10000 non-null  object \n",
      " 30  InternetService       10000 non-null  object \n",
      " 31  Phone                 8974 non-null   object \n",
      " 32  Multiple              10000 non-null  object \n",
      " 33  OnlineSecurity        10000 non-null  object \n",
      " 34  OnlineBackup          10000 non-null  object \n",
      " 35  DeviceProtection      10000 non-null  object \n",
      " 36  TechSupport           9009 non-null   object \n",
      " 37  StreamingTV           10000 non-null  object \n",
      " 38  StreamingMovies       10000 non-null  object \n",
      " 39  PaperlessBilling      10000 non-null  object \n",
      " 40  PaymentMethod         10000 non-null  object \n",
      " 41  Tenure                9069 non-null   float64\n",
      " 42  MonthlyCharge         10000 non-null  float64\n",
      " 43  Bandwidth_GB_Year     8979 non-null   float64\n",
      " 44  item1                 10000 non-null  int64  \n",
      " 45  item2                 10000 non-null  int64  \n",
      " 46  item3                 10000 non-null  int64  \n",
      " 47  item4                 10000 non-null  int64  \n",
      " 48  item5                 10000 non-null  int64  \n",
      " 49  item6                 10000 non-null  int64  \n",
      " 50  item7                 10000 non-null  int64  \n",
      " 51  item8                 10000 non-null  int64  \n",
      "dtypes: float64(9), int64(15), object(28)\n",
      "memory usage: 4.0+ MB\n"
     ]
    }
   ],
   "source": [
    "#determine column names, non-null values, & types \n",
    "df.info()"
   ]
  },
  {
   "cell_type": "code",
   "execution_count": 43,
   "id": "fad5bde3",
   "metadata": {},
   "outputs": [
    {
     "data": {
      "text/plain": [
       "0       False\n",
       "1       False\n",
       "2       False\n",
       "3       False\n",
       "4       False\n",
       "        ...  \n",
       "9995    False\n",
       "9996    False\n",
       "9997    False\n",
       "9998    False\n",
       "9999    False\n",
       "Length: 10000, dtype: bool"
      ]
     },
     "execution_count": 43,
     "metadata": {},
     "output_type": "execute_result"
    }
   ],
   "source": [
    "#determine if any rows are duplicated \n",
    "df.duplicated()"
   ]
  },
  {
   "cell_type": "code",
   "execution_count": 44,
   "id": "8bb0450f",
   "metadata": {},
   "outputs": [
    {
     "name": "stdout",
     "output_type": "stream",
     "text": [
      "10000\n"
     ]
    }
   ],
   "source": [
    "#delete any duplicated rows\n",
    "df.drop_duplicates()\n",
    "print(len(df))"
   ]
  },
  {
   "cell_type": "code",
   "execution_count": 45,
   "id": "43257fcf",
   "metadata": {},
   "outputs": [
    {
     "data": {
      "text/plain": [
       "Unnamed: 0                 0\n",
       "CaseOrder                  0\n",
       "Customer_id                0\n",
       "Interaction                0\n",
       "City                       0\n",
       "State                      0\n",
       "County                     0\n",
       "Zip                        0\n",
       "Lat                        0\n",
       "Lng                        0\n",
       "Population                 0\n",
       "Area                       0\n",
       "Timezone                   0\n",
       "Job                        0\n",
       "Children                2495\n",
       "Age                     2475\n",
       "Education                  0\n",
       "Employment                 0\n",
       "Income                  2490\n",
       "Marital                    0\n",
       "Gender                     0\n",
       "Churn                      0\n",
       "Outage_sec_perweek         0\n",
       "Email                      0\n",
       "Contacts                   0\n",
       "Yearly_equip_failure       0\n",
       "Techie                  2477\n",
       "Contract                   0\n",
       "Port_modem                 0\n",
       "Tablet                     0\n",
       "InternetService            0\n",
       "Phone                   1026\n",
       "Multiple                   0\n",
       "OnlineSecurity             0\n",
       "OnlineBackup               0\n",
       "DeviceProtection           0\n",
       "TechSupport              991\n",
       "StreamingTV                0\n",
       "StreamingMovies            0\n",
       "PaperlessBilling           0\n",
       "PaymentMethod              0\n",
       "Tenure                   931\n",
       "MonthlyCharge              0\n",
       "Bandwidth_GB_Year       1021\n",
       "item1                      0\n",
       "item2                      0\n",
       "item3                      0\n",
       "item4                      0\n",
       "item5                      0\n",
       "item6                      0\n",
       "item7                      0\n",
       "item8                      0\n",
       "dtype: int64"
      ]
     },
     "execution_count": 45,
     "metadata": {},
     "output_type": "execute_result"
    }
   ],
   "source": [
    "#no duplicated values in dataset\n",
    "#determine which variables contain null values & how many null values\n",
    "df.isnull().sum()"
   ]
  },
  {
   "cell_type": "code",
   "execution_count": 46,
   "id": "d9bb2986",
   "metadata": {},
   "outputs": [
    {
     "data": {
      "text/plain": [
       "<AxesSubplot:>"
      ]
     },
     "execution_count": 46,
     "metadata": {},
     "output_type": "execute_result"
    },
    {
     "data": {
      "image/png": "[encoded data removed]",
      "text/plain": [
       "<Figure size 1800x720 with 2 Axes>"
      ]
     },
     "metadata": {
      "needs_background": "light"
     },
     "output_type": "display_data"
    }
   ],
   "source": [
    "#Missingno visualization of missing data\n",
    "msno.matrix(df, fontsize = 12, labels = True)"
   ]
  },
  {
   "cell_type": "code",
   "execution_count": 47,
   "id": "ebb07bc3",
   "metadata": {},
   "outputs": [
    {
     "data": {
      "text/plain": [
       "array([[<AxesSubplot:title={'center':'Children'}>,\n",
       "        <AxesSubplot:title={'center':'Age'}>],\n",
       "       [<AxesSubplot:title={'center':'Income'}>,\n",
       "        <AxesSubplot:title={'center':'Tenure'}>],\n",
       "       [<AxesSubplot:title={'center':'Bandwidth_GB_Year'}>,\n",
       "        <AxesSubplot:>]], dtype=object)"
      ]
     },
     "execution_count": 47,
     "metadata": {},
     "output_type": "execute_result"
    },
    {
     "data": {
      "image/png": "[encoded data removed]",
      "text/plain": [
       "<Figure size 864x576 with 6 Axes>"
      ]
     },
     "metadata": {
      "needs_background": "light"
     },
     "output_type": "display_data"
    }
   ],
   "source": [
    "#Check each column containing null values that is a float or integer value. \n",
    "#Determine skew, possible ouliers, and distribution. \n",
    "df.hist(column=[\"Children\", \"Age\", \"Income\", \"Tenure\", \"Bandwidth_GB_Year\"], figsize=(12,8))"
   ]
  },
  {
   "cell_type": "code",
   "execution_count": 48,
   "id": "6bde3d8e",
   "metadata": {},
   "outputs": [
    {
     "name": "stdout",
     "output_type": "stream",
     "text": [
      "0\n"
     ]
    },
    {
     "data": {
      "image/png": "[encoded data removed]",
      "text/plain": [
       "<Figure size 432x288 with 1 Axes>"
      ]
     },
     "metadata": {
      "needs_background": "light"
     },
     "output_type": "display_data"
    }
   ],
   "source": [
    "#Children column is right skewed, therefore I will use the median to impute the data.\n",
    "df['Children'].fillna(df['Children'].median(), inplace = True)\n",
    "\n",
    "#verify the data was imputed \n",
    "print(df['Children'].isnull().sum())\n",
    "\n",
    "#Check if the distribution of data was effected by the imputation of the median. \n",
    "plt.hist(df['Children'])\n",
    "plt.show()"
   ]
  },
  {
   "cell_type": "code",
   "execution_count": 49,
   "id": "e5b06193",
   "metadata": {},
   "outputs": [
    {
     "name": "stdout",
     "output_type": "stream",
     "text": [
      "0\n"
     ]
    },
    {
     "data": {
      "image/png": "[encoded data removed]",
      "text/plain": [
       "<Figure size 432x288 with 1 Axes>"
      ]
     },
     "metadata": {
      "needs_background": "light"
     },
     "output_type": "display_data"
    }
   ],
   "source": [
    "#Age column has a uniform distribution, therefore I will use the mean to impute the data. \n",
    "df['Age'].fillna(df['Age'].mean(), inplace = True)\n",
    "\n",
    "#verify the data was imputed \n",
    "print(df['Age'].isnull().sum())\n",
    "\n",
    "#Check if the distribution of data was effected by the imputation of the mean. \n",
    "plt.hist(df['Age'])\n",
    "plt.show()"
   ]
  },
  {
   "cell_type": "code",
   "execution_count": 50,
   "id": "7a64fbf2",
   "metadata": {},
   "outputs": [
    {
     "name": "stdout",
     "output_type": "stream",
     "text": [
      "0\n"
     ]
    },
    {
     "data": {
      "image/png": "[encoded data removed]",
      "text/plain": [
       "<Figure size 432x288 with 1 Axes>"
      ]
     },
     "metadata": {
      "needs_background": "light"
     },
     "output_type": "display_data"
    }
   ],
   "source": [
    "#Income column has is right skewed, therefore I will use the median to impute the data. \n",
    "df['Income'].fillna(df['Income'].median(), inplace = True)\n",
    "\n",
    "#verify the data was imputed \n",
    "print(df['Income'].isnull().sum())\n",
    "\n",
    "#Check if the distribution of data was effected by the imputation of the median. \n",
    "plt.hist(df['Income'])\n",
    "plt.show()"
   ]
  },
  {
   "cell_type": "code",
   "execution_count": 51,
   "id": "7a465472",
   "metadata": {},
   "outputs": [
    {
     "name": "stdout",
     "output_type": "stream",
     "text": [
      "0\n"
     ]
    },
    {
     "data": {
      "image/png": "[encoded data removed]",
      "text/plain": [
       "<Figure size 432x288 with 1 Axes>"
      ]
     },
     "metadata": {
      "needs_background": "light"
     },
     "output_type": "display_data"
    }
   ],
   "source": [
    "#Tenure column has a bimodal distribution, therefore I decided to use the median to impute the data. \n",
    "df['Tenure'].fillna(df['Tenure'].median(), inplace = True)\n",
    "\n",
    "#verify the data was imputed \n",
    "print(df['Tenure'].isnull().sum())\n",
    "\n",
    "#Check if the distribution of data was effected by the imputation of the mean. \n",
    "plt.hist(df['Tenure'])\n",
    "plt.show()"
   ]
  },
  {
   "cell_type": "code",
   "execution_count": 52,
   "id": "b76ef753",
   "metadata": {},
   "outputs": [
    {
     "name": "stdout",
     "output_type": "stream",
     "text": [
      "0\n"
     ]
    },
    {
     "data": {
      "image/png": "[encoded data removed]",
      "text/plain": [
       "<Figure size 432x288 with 1 Axes>"
      ]
     },
     "metadata": {
      "needs_background": "light"
     },
     "output_type": "display_data"
    }
   ],
   "source": [
    "#Bandwidth_GB_Year column has a bimodal distribution, therefore I decided to use the median to impute the data. \n",
    "df['Bandwidth_GB_Year'].fillna(df['Bandwidth_GB_Year'].median(), inplace = True)\n",
    "\n",
    "#verify the data was imputed \n",
    "print(df['Bandwidth_GB_Year'].isnull().sum())\n",
    "\n",
    "#Check if the distribution of data was effected by the imputation of the mean. \n",
    "plt.hist(df['Bandwidth_GB_Year'])\n",
    "plt.show()"
   ]
  },
  {
   "cell_type": "code",
   "execution_count": 53,
   "id": "f9c20976",
   "metadata": {},
   "outputs": [
    {
     "name": "stdout",
     "output_type": "stream",
     "text": [
      "Null values in Techie: 0\n",
      "Null values in Phone: 0\n",
      "Null values in TechSupport: 0\n"
     ]
    }
   ],
   "source": [
    "#Clean null values from object or text columns using the mode.\n",
    "impute_with_mode = ['Techie', 'Phone', 'TechSupport']\n",
    "                    \n",
    "i=0 \n",
    "while i < len(impute_with_mode):\n",
    "    df[impute_with_mode[i]] = df[impute_with_mode[i]].fillna(df[impute_with_mode[i]].mode()[0])\n",
    "    i = i + 1\n",
    "    \n",
    "\n",
    "#verify the data was imputed \n",
    "i=0 \n",
    "while i < len(impute_with_mode):\n",
    "    print('Null values in ' + str(impute_with_mode[i]) + ': ' + str(df[impute_with_mode[i]].isnull().sum()))\n",
    "    i = i + 1\n"
   ]
  },
  {
   "cell_type": "code",
   "execution_count": 54,
   "id": "27b0a7d4",
   "metadata": {},
   "outputs": [
    {
     "data": {
      "text/plain": [
       "Unnamed: 0              0\n",
       "CaseOrder               0\n",
       "Customer_id             0\n",
       "Interaction             0\n",
       "City                    0\n",
       "State                   0\n",
       "County                  0\n",
       "Zip                     0\n",
       "Lat                     0\n",
       "Lng                     0\n",
       "Population              0\n",
       "Area                    0\n",
       "Timezone                0\n",
       "Job                     0\n",
       "Children                0\n",
       "Age                     0\n",
       "Education               0\n",
       "Employment              0\n",
       "Income                  0\n",
       "Marital                 0\n",
       "Gender                  0\n",
       "Churn                   0\n",
       "Outage_sec_perweek      0\n",
       "Email                   0\n",
       "Contacts                0\n",
       "Yearly_equip_failure    0\n",
       "Techie                  0\n",
       "Contract                0\n",
       "Port_modem              0\n",
       "Tablet                  0\n",
       "InternetService         0\n",
       "Phone                   0\n",
       "Multiple                0\n",
       "OnlineSecurity          0\n",
       "OnlineBackup            0\n",
       "DeviceProtection        0\n",
       "TechSupport             0\n",
       "StreamingTV             0\n",
       "StreamingMovies         0\n",
       "PaperlessBilling        0\n",
       "PaymentMethod           0\n",
       "Tenure                  0\n",
       "MonthlyCharge           0\n",
       "Bandwidth_GB_Year       0\n",
       "item1                   0\n",
       "item2                   0\n",
       "item3                   0\n",
       "item4                   0\n",
       "item5                   0\n",
       "item6                   0\n",
       "item7                   0\n",
       "item8                   0\n",
       "dtype: int64"
      ]
     },
     "execution_count": 54,
     "metadata": {},
     "output_type": "execute_result"
    }
   ],
   "source": [
    "#double-check all null values have been imputed\n",
    "df.isnull().sum()"
   ]
  },
  {
   "cell_type": "code",
   "execution_count": 55,
   "id": "c8b61f5e",
   "metadata": {},
   "outputs": [
    {
     "data": {
      "image/png": "[encoded data removed]",
      "text/plain": [
       "<Figure size 432x288 with 1 Axes>"
      ]
     },
     "metadata": {
      "needs_background": "light"
     },
     "output_type": "display_data"
    },
    {
     "data": {
      "image/png": "[encoded data removed]",
      "text/plain": [
       "<Figure size 432x288 with 1 Axes>"
      ]
     },
     "metadata": {
      "needs_background": "light"
     },
     "output_type": "display_data"
    },
    {
     "data": {
      "image/png": "[encoded data removed]",
      "text/plain": [
       "<Figure size 432x288 with 1 Axes>"
      ]
     },
     "metadata": {
      "needs_background": "light"
     },
     "output_type": "display_data"
    },
    {
     "data": {
      "image/png": "[encoded data removed]",
      "text/plain": [
       "<Figure size 432x288 with 1 Axes>"
      ]
     },
     "metadata": {
      "needs_background": "light"
     },
     "output_type": "display_data"
    },
    {
     "data": {
      "image/png": "[encoded data removed]",
      "text/plain": [
       "<Figure size 432x288 with 1 Axes>"
      ]
     },
     "metadata": {
      "needs_background": "light"
     },
     "output_type": "display_data"
    },
    {
     "data": {
      "image/png": "[encoded data removed]",
      "text/plain": [
       "<Figure size 432x288 with 1 Axes>"
      ]
     },
     "metadata": {
      "needs_background": "light"
     },
     "output_type": "display_data"
    },
    {
     "data": {
      "image/png": "[encoded data removed]",
      "text/plain": [
       "<Figure size 432x288 with 1 Axes>"
      ]
     },
     "metadata": {
      "needs_background": "light"
     },
     "output_type": "display_data"
    },
    {
     "data": {
      "image/png": "[encoded data removed]",
      "text/plain": [
       "<Figure size 432x288 with 1 Axes>"
      ]
     },
     "metadata": {
      "needs_background": "light"
     },
     "output_type": "display_data"
    },
    {
     "data": {
      "image/png": "[encoded data removed]",
      "text/plain": [
       "<Figure size 432x288 with 1 Axes>"
      ]
     },
     "metadata": {
      "needs_background": "light"
     },
     "output_type": "display_data"
    },
    {
     "data": {
      "image/png": "[encoded data removed]",
      "text/plain": [
       "<Figure size 432x288 with 1 Axes>"
      ]
     },
     "metadata": {
      "needs_background": "light"
     },
     "output_type": "display_data"
    },
    {
     "data": {
      "image/png": "[encoded data removed]",
      "text/plain": [
       "<Figure size 432x288 with 1 Axes>"
      ]
     },
     "metadata": {
      "needs_background": "light"
     },
     "output_type": "display_data"
    },
    {
     "data": {
      "image/png": "[encoded data removed]",
      "text/plain": [
       "<Figure size 432x288 with 1 Axes>"
      ]
     },
     "metadata": {
      "needs_background": "light"
     },
     "output_type": "display_data"
    },
    {
     "data": {
      "image/png": "[encoded data removed]",
      "text/plain": [
       "<Figure size 432x288 with 1 Axes>"
      ]
     },
     "metadata": {
      "needs_background": "light"
     },
     "output_type": "display_data"
    },
    {
     "data": {
      "image/png": "[encoded data removed]",
      "text/plain": [
       "<Figure size 432x288 with 1 Axes>"
      ]
     },
     "metadata": {
      "needs_background": "light"
     },
     "output_type": "display_data"
    },
    {
     "data": {
      "image/png": "[encoded data removed]",
      "text/plain": [
       "<Figure size 432x288 with 1 Axes>"
      ]
     },
     "metadata": {
      "needs_background": "light"
     },
     "output_type": "display_data"
    },
    {
     "data": {
      "image/png": "[encoded data removed]",
      "text/plain": [
       "<Figure size 432x288 with 1 Axes>"
      ]
     },
     "metadata": {
      "needs_background": "light"
     },
     "output_type": "display_data"
    },
    {
     "data": {
      "image/png": "[encoded data removed]",
      "text/plain": [
       "<Figure size 432x288 with 1 Axes>"
      ]
     },
     "metadata": {
      "needs_background": "light"
     },
     "output_type": "display_data"
    },
    {
     "data": {
      "image/png": "[encoded data removed]",
      "text/plain": [
       "<Figure size 432x288 with 1 Axes>"
      ]
     },
     "metadata": {
      "needs_background": "light"
     },
     "output_type": "display_data"
    },
    {
     "data": {
      "image/png": "[encoded data removed]",
      "text/plain": [
       "<Figure size 432x288 with 1 Axes>"
      ]
     },
     "metadata": {
      "needs_background": "light"
     },
     "output_type": "display_data"
    },
    {
     "data": {
      "image/png": "[encoded data removed]",
      "text/plain": [
       "<Figure size 432x288 with 1 Axes>"
      ]
     },
     "metadata": {
      "needs_background": "light"
     },
     "output_type": "display_data"
    },
    {
     "data": {
      "image/png": "[encoded data removed]",
      "text/plain": [
       "<Figure size 432x288 with 1 Axes>"
      ]
     },
     "metadata": {
      "needs_background": "light"
     },
     "output_type": "display_data"
    },
    {
     "data": {
      "image/png": "[encoded data removed]",
      "text/plain": [
       "<Figure size 432x288 with 1 Axes>"
      ]
     },
     "metadata": {
      "needs_background": "light"
     },
     "output_type": "display_data"
    },
    {
     "data": {
      "image/png": "[encoded data removed]",
      "text/plain": [
       "<Figure size 432x288 with 1 Axes>"
      ]
     },
     "metadata": {
      "needs_background": "light"
     },
     "output_type": "display_data"
    }
   ],
   "source": [
    "#Using Boxplots, check for outliers in each in each float or integer value column.\n",
    "\n",
    "outliers = ['CaseOrder', 'Zip', 'Lat', 'Lng', 'Population', 'Children', 'Age', 'Income', 'Outage_sec_perweek', 'Email', 'Contacts', 'Yearly_equip_failure', 'Tenure', 'MonthlyCharge', 'Bandwidth_GB_Year', 'item1', 'item2', 'item3', 'item4', 'item5', 'item6', 'item7', 'item8']\n",
    "\n",
    "i=0 \n",
    "while i < len(outliers):\n",
    "    sns.boxplot(x = outliers[i], data = df)\n",
    "    plt.show()\n",
    "    i = i + 1"
   ]
  },
  {
   "cell_type": "code",
   "execution_count": 56,
   "id": "26084dde",
   "metadata": {},
   "outputs": [
    {
     "name": "stdout",
     "output_type": "stream",
     "text": [
      "70.64066\n",
      "17.96612\n"
     ]
    }
   ],
   "source": [
    "#Outliers found in Lat, Lng, Population, Children, Income, Outage_sec_perweek, Email, Contacts, Yearly_equip_failure, MonthlyCharge, item1, item2, item3, item4, item5, item6, item7, & item8 columns. \n",
    "#Treating outliers: \n",
    "print(df['Lat'].max())\n",
    "print(df['Lat'].min())"
   ]
  },
  {
   "cell_type": "code",
   "execution_count": 57,
   "id": "28775ac5",
   "metadata": {},
   "outputs": [
    {
     "name": "stdout",
     "output_type": "stream",
     "text": [
      "-65.66785\n",
      "-171.68815\n"
     ]
    }
   ],
   "source": [
    "#Retain outliers in Lat (Incuding US territories, the min and max are within a valid range)\n",
    "print(df['Lng'].max())\n",
    "print(df['Lng'].min())"
   ]
  },
  {
   "cell_type": "code",
   "execution_count": 58,
   "id": "b9c8b200",
   "metadata": {},
   "outputs": [
    {
     "name": "stdout",
     "output_type": "stream",
     "text": [
      "count     10000.000000\n",
      "mean       9756.562400\n",
      "std       14432.698671\n",
      "min           0.000000\n",
      "25%         738.000000\n",
      "50%        2910.500000\n",
      "75%       13168.000000\n",
      "max      111850.000000\n",
      "Name: Population, dtype: float64\n"
     ]
    }
   ],
   "source": [
    "#Retain outliers in Lng (Incuding US territories, the min and max are within a valid range) \n",
    "print(df['Population'].describe())"
   ]
  },
  {
   "cell_type": "code",
   "execution_count": 59,
   "id": "272d6cd8",
   "metadata": {},
   "outputs": [
    {
     "name": "stdout",
     "output_type": "stream",
     "text": [
      "count    10000.000000\n",
      "mean      4949.264200\n",
      "std       6338.293875\n",
      "min          0.000000\n",
      "25%        738.000000\n",
      "50%       2910.500000\n",
      "75%       5943.000000\n",
      "max      26999.000000\n",
      "Name: Population, dtype: float64\n"
     ]
    }
   ],
   "source": [
    "#Replace outlier population values > 27,000 \n",
    "#New York City, NY, has the most density population in the US. In New York the max population density is a little over 27,000 per square mile. Therefore the right skewed outliers are likely entry errors.\n",
    "df['Population'] = np.where(df['Population'] >= 27000, 2931, df['Population']) \n",
    "print(df['Population'].describe())"
   ]
  },
  {
   "cell_type": "code",
   "execution_count": 60,
   "id": "3d3cc6a9",
   "metadata": {},
   "outputs": [
    {
     "data": {
      "image/png": "[encoded data removed]",
      "text/plain": [
       "<Figure size 432x288 with 1 Axes>"
      ]
     },
     "metadata": {
      "needs_background": "light"
     },
     "output_type": "display_data"
    }
   ],
   "source": [
    "#Check distribution of population data. \n",
    "Population_boxplot = sns.boxplot(x = \"Population\", data = df).set_title(\"Population\")\n",
    "plt.show()"
   ]
  },
  {
   "cell_type": "code",
   "execution_count": 61,
   "id": "518134db",
   "metadata": {},
   "outputs": [
    {
     "name": "stdout",
     "output_type": "stream",
     "text": [
      "258900.7\n",
      "47.04928\n",
      "-1.348571\n"
     ]
    }
   ],
   "source": [
    "#Check that the max income is within a reasonable range\n",
    "print(df['Income'].max())\n",
    "\n",
    "#Check that the max and min outage_sec_perweek is within a reasonable range\n",
    "print(df['Outage_sec_perweek'].max())\n",
    "print(df['Outage_sec_perweek'].min())"
   ]
  },
  {
   "cell_type": "code",
   "execution_count": 62,
   "id": "bedab303",
   "metadata": {},
   "outputs": [
    {
     "data": {
      "text/plain": [
       "count    10000.000000\n",
       "mean        11.452955\n",
       "std          7.025921\n",
       "min         -1.348571\n",
       "25%          8.054362\n",
       "50%         10.202896\n",
       "75%         12.487644\n",
       "max         47.049280\n",
       "Name: Outage_sec_perweek, dtype: float64"
      ]
     },
     "execution_count": 62,
     "metadata": {},
     "output_type": "execute_result"
    }
   ],
   "source": [
    "#Retain outliers in Children (All values are possible children values)\n",
    "#Retain outliers in Income (All values are possible income values)\n",
    "df['Outage_sec_perweek'].describe()"
   ]
  },
  {
   "cell_type": "code",
   "execution_count": 63,
   "id": "7e88cdc3",
   "metadata": {},
   "outputs": [
    {
     "name": "stdout",
     "output_type": "stream",
     "text": [
      "count    10000.000000\n",
      "mean        11.464828\n",
      "std          7.014674\n",
      "min          0.113821\n",
      "25%          8.066905\n",
      "50%         10.213912\n",
      "75%         12.487644\n",
      "max         47.049280\n",
      "Name: Outage_sec_perweek, dtype: float64\n"
     ]
    }
   ],
   "source": [
    "#Replace negative outliers in Outage_sec_perweek with median because you cannot have less than zero secons of outage\n",
    "df['Outage_sec_perweek'] = np.where(df['Outage_sec_perweek'] < 0, 10.214231, df['Outage_sec_perweek']) #(Singh, 2019)\n",
    "print(df['Outage_sec_perweek'].describe())"
   ]
  },
  {
   "cell_type": "code",
   "execution_count": 64,
   "id": "12391ddd",
   "metadata": {},
   "outputs": [
    {
     "data": {
      "image/png": "[encoded data removed]",
      "text/plain": [
       "<Figure size 432x288 with 1 Axes>"
      ]
     },
     "metadata": {
      "needs_background": "light"
     },
     "output_type": "display_data"
    }
   ],
   "source": [
    "#Check distribution of Outage_sec_perweek data. \n",
    "Outage_sec_perweek_boxplot = sns.boxplot(x = \"Outage_sec_perweek\", data = df).set_title(\"Outage_sec_perweek\")\n",
    "plt.show()"
   ]
  },
  {
   "cell_type": "code",
   "execution_count": 65,
   "id": "709ebb98",
   "metadata": {},
   "outputs": [
    {
     "name": "stdout",
     "output_type": "stream",
     "text": [
      "315.8786\n"
     ]
    }
   ],
   "source": [
    "#Check that the MonthlyCharge income is within a reasonable range\n",
    "print(df['MonthlyCharge'].max())"
   ]
  },
  {
   "cell_type": "code",
   "execution_count": 66,
   "id": "b0ae71d2",
   "metadata": {},
   "outputs": [],
   "source": [
    "#Retain outliers in Email (All values are possible email values)\n",
    "#Retain outliers in Contacts (All values are possible contact values)\n",
    "#Retain outliers in Yearly_equip_failure (All values are possible equipment failure values)\n",
    "#Retain outliers in MonthlyCharge (All values are possible monthly charge values)\n",
    "#Retain outliers in all item answers (All values are possible values for each item answer)"
   ]
  },
  {
   "cell_type": "code",
   "execution_count": 67,
   "id": "440eef5d",
   "metadata": {},
   "outputs": [
    {
     "name": "stdout",
     "output_type": "stream",
     "text": [
      "0    0\n",
      "1    1\n",
      "2    0\n",
      "3    0\n",
      "4    1\n",
      "Name: Churn, dtype: int64\n"
     ]
    }
   ],
   "source": [
    "#Re-expressing Categorical Variables \n",
    "#Practice label encoding yes/no dichotomous binary columns. \n",
    "labelencoder = LabelEncoder()\n",
    "df['Churn'] = labelencoder.fit_transform(df['Churn'])\n",
    "print(df['Churn'].head())"
   ]
  },
  {
   "cell_type": "code",
   "execution_count": 68,
   "id": "ca9598e8",
   "metadata": {},
   "outputs": [],
   "source": [
    "df['Techie'] = labelencoder.fit_transform(df['Techie'])\n",
    "df['Port_modem'] = labelencoder.fit_transform(df['Port_modem'])\n",
    "df['Phone'] = labelencoder.fit_transform(df['Phone'])"
   ]
  },
  {
   "cell_type": "code",
   "execution_count": 69,
   "id": "e81bef4a",
   "metadata": {},
   "outputs": [
    {
     "name": "stdout",
     "output_type": "stream",
     "text": [
      "[\"Master's Degree\" 'Regular High School Diploma' 'Doctorate Degree'\n",
      " 'No Schooling Completed' \"Associate's Degree\" \"Bachelor's Degree\"\n",
      " 'Some College, Less than 1 Year' 'GED or Alternative Credential'\n",
      " 'Some College, 1 or More Years, No Degree'\n",
      " '9th Grade to 12th Grade, No Diploma' 'Nursery School to 8th Grade'\n",
      " 'Professional School Degree']\n",
      "12\n"
     ]
    }
   ],
   "source": [
    "#Practice Ordinal Encoding \n",
    "#First find unique entiries in the education table. \n",
    "print(df['Education'].unique())\n",
    "print(len(df['Education'].unique()))"
   ]
  },
  {
   "cell_type": "code",
   "execution_count": 70,
   "id": "2b54d38b",
   "metadata": {},
   "outputs": [],
   "source": [
    "df['Education_numeric'] = df['Education'] \n",
    "dict_edu = {'Education_numeric': {'No Schooling Completed': 0, 'Nursery School to 8th Grade': 1, '9th Grade to 12th Grade, No Diploma': 2, 'GED or Alternative Credential': 3, 'Regular High School Diploma': 4, 'Some College, Less than 1 Year': 5, 'Some College, 1 or More Years, No Degree': 6, \"Associate's Degree\": 7, 'Professional School Degree': 8, \"Bachelor's Degree\": 9, \"Master's Degree\": 10, 'Doctorate Degree': 11}}\n",
    "df.replace(dict_edu, inplace = True) "
   ]
  },
  {
   "cell_type": "code",
   "execution_count": 71,
   "id": "ae4573d5",
   "metadata": {},
   "outputs": [
    {
     "data": {
      "text/plain": [
       "array([10,  4, 11,  0,  7,  9,  5,  3,  6,  2,  1,  8])"
      ]
     },
     "execution_count": 71,
     "metadata": {},
     "output_type": "execute_result"
    }
   ],
   "source": [
    "#Check that Education_numeric was created correctly.\n",
    "df['Education_numeric'].unique()"
   ]
  },
  {
   "cell_type": "code",
   "execution_count": 72,
   "id": "e12cfe6b",
   "metadata": {},
   "outputs": [
    {
     "data": {
      "text/html": [
       "<style>#sk-container-id-1 {color: black;background-color: white;}#sk-container-id-1 pre{padding: 0;}#sk-container-id-1 div.sk-toggleable {background-color: white;}#sk-container-id-1 label.sk-toggleable__label {cursor: pointer;display: block;width: 100%;margin-bottom: 0;padding: 0.3em;box-sizing: border-box;text-align: center;}#sk-container-id-1 label.sk-toggleable__label-arrow:before {content: \"▸\";float: left;margin-right: 0.25em;color: #696969;}#sk-container-id-1 label.sk-toggleable__label-arrow:hover:before {color: black;}#sk-container-id-1 div.sk-estimator:hover label.sk-toggleable__label-arrow:before {color: black;}#sk-container-id-1 div.sk-toggleable__content {max-height: 0;max-width: 0;overflow: hidden;text-align: left;background-color: #f0f8ff;}#sk-container-id-1 div.sk-toggleable__content pre {margin: 0.2em;color: black;border-radius: 0.25em;background-color: #f0f8ff;}#sk-container-id-1 input.sk-toggleable__control:checked~div.sk-toggleable__content {max-height: 200px;max-width: 100%;overflow: auto;}#sk-container-id-1 input.sk-toggleable__control:checked~label.sk-toggleable__label-arrow:before {content: \"▾\";}#sk-container-id-1 div.sk-estimator input.sk-toggleable__control:checked~label.sk-toggleable__label {background-color: #d4ebff;}#sk-container-id-1 div.sk-label input.sk-toggleable__control:checked~label.sk-toggleable__label {background-color: #d4ebff;}#sk-container-id-1 input.sk-hidden--visually {border: 0;clip: rect(1px 1px 1px 1px);clip: rect(1px, 1px, 1px, 1px);height: 1px;margin: -1px;overflow: hidden;padding: 0;position: absolute;width: 1px;}#sk-container-id-1 div.sk-estimator {font-family: monospace;background-color: #f0f8ff;border: 1px dotted black;border-radius: 0.25em;box-sizing: border-box;margin-bottom: 0.5em;}#sk-container-id-1 div.sk-estimator:hover {background-color: #d4ebff;}#sk-container-id-1 div.sk-parallel-item::after {content: \"\";width: 100%;border-bottom: 1px solid gray;flex-grow: 1;}#sk-container-id-1 div.sk-label:hover label.sk-toggleable__label {background-color: #d4ebff;}#sk-container-id-1 div.sk-serial::before {content: \"\";position: absolute;border-left: 1px solid gray;box-sizing: border-box;top: 0;bottom: 0;left: 50%;z-index: 0;}#sk-container-id-1 div.sk-serial {display: flex;flex-direction: column;align-items: center;background-color: white;padding-right: 0.2em;padding-left: 0.2em;position: relative;}#sk-container-id-1 div.sk-item {position: relative;z-index: 1;}#sk-container-id-1 div.sk-parallel {display: flex;align-items: stretch;justify-content: center;background-color: white;position: relative;}#sk-container-id-1 div.sk-item::before, #sk-container-id-1 div.sk-parallel-item::before {content: \"\";position: absolute;border-left: 1px solid gray;box-sizing: border-box;top: 0;bottom: 0;left: 50%;z-index: -1;}#sk-container-id-1 div.sk-parallel-item {display: flex;flex-direction: column;z-index: 1;position: relative;background-color: white;}#sk-container-id-1 div.sk-parallel-item:first-child::after {align-self: flex-end;width: 50%;}#sk-container-id-1 div.sk-parallel-item:last-child::after {align-self: flex-start;width: 50%;}#sk-container-id-1 div.sk-parallel-item:only-child::after {width: 0;}#sk-container-id-1 div.sk-dashed-wrapped {border: 1px dashed gray;margin: 0 0.4em 0.5em 0.4em;box-sizing: border-box;padding-bottom: 0.4em;background-color: white;}#sk-container-id-1 div.sk-label label {font-family: monospace;font-weight: bold;display: inline-block;line-height: 1.2em;}#sk-container-id-1 div.sk-label-container {text-align: center;}#sk-container-id-1 div.sk-container {/* jupyter's `normalize.less` sets `[hidden] { display: none; }` but bootstrap.min.css set `[hidden] { display: none !important; }` so we also need the `!important` here to be able to override the default hidden behavior on the sphinx rendered scikit-learn.org. See: https://github.com/scikit-learn/scikit-learn/issues/21755 */display: inline-block !important;position: relative;}#sk-container-id-1 div.sk-text-repr-fallback {display: none;}</style><div id=\"sk-container-id-1\" class=\"sk-top-container\"><div class=\"sk-text-repr-fallback\"><pre>PCA(n_components=21)</pre><b>In a Jupyter environment, please rerun this cell to show the HTML representation or trust the notebook. <br />On GitHub, the HTML representation is unable to render, please try loading this page with nbviewer.org.</b></div><div class=\"sk-container\" hidden><div class=\"sk-item\"><div class=\"sk-estimator sk-toggleable\"><input class=\"sk-toggleable__control sk-hidden--visually\" id=\"sk-estimator-id-1\" type=\"checkbox\" checked><label for=\"sk-estimator-id-1\" class=\"sk-toggleable__label sk-toggleable__label-arrow\">PCA</label><div class=\"sk-toggleable__content\"><pre>PCA(n_components=21)</pre></div></div></div></div></div>"
      ],
      "text/plain": [
       "PCA(n_components=21)"
      ]
     },
     "execution_count": 72,
     "metadata": {},
     "output_type": "execute_result"
    }
   ],
   "source": [
    "#Principal Component Analysis\n",
    "PCA_df = df[['Lat', 'Lng', 'Population', 'Children', 'Age', 'Income', 'Outage_sec_perweek', 'Email', 'Contacts', 'Yearly_equip_failure', 'Tenure', 'MonthlyCharge', 'Bandwidth_GB_Year', 'item1', 'item2', 'item3', 'item4', 'item5', 'item6', 'item7', 'item8']]\n",
    "PCA_df_normalized = (PCA_df - PCA_df.mean()) / PCA_df.std()\n",
    "pca = PCA(n_components = PCA_df.shape[1])\n",
    "pca.fit(PCA_df_normalized)"
   ]
  },
  {
   "cell_type": "code",
   "execution_count": 74,
   "id": "5dab12af",
   "metadata": {},
   "outputs": [],
   "source": [
    "test_pca = pd.DataFrame(pca.transform(PCA_df_normalized), \n",
    "                        columns = ['PC1', 'PC2', 'PC3', 'PC4', 'PC5', 'PC6', 'PC7', 'PC8', 'PC9', 'PC10', 'PC11', 'PC12', 'PC13', 'PC14', 'PC15', 'PC16', 'PC17', 'PC18', 'PC19', 'PC20', 'PC21'])"
   ]
  },
  {
   "cell_type": "code",
   "execution_count": 75,
   "id": "35875a57",
   "metadata": {},
   "outputs": [
    {
     "data": {
      "text/html": [
       "<div>\n",
       "<style scoped>\n",
       "    .dataframe tbody tr th:only-of-type {\n",
       "        vertical-align: middle;\n",
       "    }\n",
       "\n",
       "    .dataframe tbody tr th {\n",
       "        vertical-align: top;\n",
       "    }\n",
       "\n",
       "    .dataframe thead th {\n",
       "        text-align: right;\n",
       "    }\n",
       "</style>\n",
       "<table border=\"1\" class=\"dataframe\">\n",
       "  <thead>\n",
       "    <tr style=\"text-align: right;\">\n",
       "      <th></th>\n",
       "      <th>PC1</th>\n",
       "      <th>PC2</th>\n",
       "      <th>PC3</th>\n",
       "      <th>PC4</th>\n",
       "      <th>PC5</th>\n",
       "      <th>PC6</th>\n",
       "      <th>PC7</th>\n",
       "      <th>PC8</th>\n",
       "      <th>PC9</th>\n",
       "      <th>PC10</th>\n",
       "      <th>...</th>\n",
       "      <th>PC12</th>\n",
       "      <th>PC13</th>\n",
       "      <th>PC14</th>\n",
       "      <th>PC15</th>\n",
       "      <th>PC16</th>\n",
       "      <th>PC17</th>\n",
       "      <th>PC18</th>\n",
       "      <th>PC19</th>\n",
       "      <th>PC20</th>\n",
       "      <th>PC21</th>\n",
       "    </tr>\n",
       "  </thead>\n",
       "  <tbody>\n",
       "    <tr>\n",
       "      <th>Lat</th>\n",
       "      <td>-0.001493</td>\n",
       "      <td>-0.020566</td>\n",
       "      <td>-0.002825</td>\n",
       "      <td>0.632033</td>\n",
       "      <td>0.000584</td>\n",
       "      <td>-0.043657</td>\n",
       "      <td>0.014916</td>\n",
       "      <td>-0.087717</td>\n",
       "      <td>0.005048</td>\n",
       "      <td>0.038057</td>\n",
       "      <td>...</td>\n",
       "      <td>-0.177838</td>\n",
       "      <td>-0.167155</td>\n",
       "      <td>-0.712071</td>\n",
       "      <td>0.121099</td>\n",
       "      <td>0.000678</td>\n",
       "      <td>-0.026476</td>\n",
       "      <td>-0.004072</td>\n",
       "      <td>0.022065</td>\n",
       "      <td>-0.007783</td>\n",
       "      <td>0.001186</td>\n",
       "    </tr>\n",
       "    <tr>\n",
       "      <th>Lng</th>\n",
       "      <td>0.008049</td>\n",
       "      <td>0.009123</td>\n",
       "      <td>0.023357</td>\n",
       "      <td>-0.491999</td>\n",
       "      <td>0.055732</td>\n",
       "      <td>0.175074</td>\n",
       "      <td>0.005981</td>\n",
       "      <td>-0.056014</td>\n",
       "      <td>0.222465</td>\n",
       "      <td>0.130024</td>\n",
       "      <td>...</td>\n",
       "      <td>-0.724866</td>\n",
       "      <td>0.015525</td>\n",
       "      <td>-0.212183</td>\n",
       "      <td>0.060996</td>\n",
       "      <td>0.027142</td>\n",
       "      <td>-0.038932</td>\n",
       "      <td>0.017360</td>\n",
       "      <td>-0.002587</td>\n",
       "      <td>-0.024015</td>\n",
       "      <td>0.000925</td>\n",
       "    </tr>\n",
       "    <tr>\n",
       "      <th>Population</th>\n",
       "      <td>-0.000687</td>\n",
       "      <td>-0.008698</td>\n",
       "      <td>-0.000360</td>\n",
       "      <td>-0.576266</td>\n",
       "      <td>0.042456</td>\n",
       "      <td>-0.039908</td>\n",
       "      <td>0.139266</td>\n",
       "      <td>-0.068278</td>\n",
       "      <td>-0.261718</td>\n",
       "      <td>-0.038115</td>\n",
       "      <td>...</td>\n",
       "      <td>0.430267</td>\n",
       "      <td>-0.128329</td>\n",
       "      <td>-0.595187</td>\n",
       "      <td>-0.026339</td>\n",
       "      <td>-0.028807</td>\n",
       "      <td>0.036047</td>\n",
       "      <td>0.001904</td>\n",
       "      <td>0.030197</td>\n",
       "      <td>0.003534</td>\n",
       "      <td>0.000207</td>\n",
       "    </tr>\n",
       "    <tr>\n",
       "      <th>Children</th>\n",
       "      <td>0.000450</td>\n",
       "      <td>-0.000793</td>\n",
       "      <td>0.010789</td>\n",
       "      <td>0.044599</td>\n",
       "      <td>0.022365</td>\n",
       "      <td>0.653901</td>\n",
       "      <td>-0.065575</td>\n",
       "      <td>-0.050266</td>\n",
       "      <td>0.516224</td>\n",
       "      <td>0.102620</td>\n",
       "      <td>...</td>\n",
       "      <td>0.438494</td>\n",
       "      <td>-0.009602</td>\n",
       "      <td>-0.057756</td>\n",
       "      <td>0.020632</td>\n",
       "      <td>-0.040037</td>\n",
       "      <td>0.021048</td>\n",
       "      <td>0.011524</td>\n",
       "      <td>0.020281</td>\n",
       "      <td>-0.007474</td>\n",
       "      <td>-0.018272</td>\n",
       "    </tr>\n",
       "    <tr>\n",
       "      <th>Age</th>\n",
       "      <td>0.005061</td>\n",
       "      <td>-0.013214</td>\n",
       "      <td>-0.017056</td>\n",
       "      <td>-0.031877</td>\n",
       "      <td>-0.046331</td>\n",
       "      <td>-0.452208</td>\n",
       "      <td>0.343680</td>\n",
       "      <td>0.176274</td>\n",
       "      <td>0.429752</td>\n",
       "      <td>-0.521462</td>\n",
       "      <td>...</td>\n",
       "      <td>0.099738</td>\n",
       "      <td>0.096212</td>\n",
       "      <td>-0.052914</td>\n",
       "      <td>-0.061221</td>\n",
       "      <td>0.009319</td>\n",
       "      <td>0.001437</td>\n",
       "      <td>-0.012349</td>\n",
       "      <td>0.008801</td>\n",
       "      <td>0.016084</td>\n",
       "      <td>0.021658</td>\n",
       "    </tr>\n",
       "    <tr>\n",
       "      <th>Income</th>\n",
       "      <td>-0.000862</td>\n",
       "      <td>0.007710</td>\n",
       "      <td>0.023906</td>\n",
       "      <td>0.034352</td>\n",
       "      <td>0.001347</td>\n",
       "      <td>0.191747</td>\n",
       "      <td>0.411387</td>\n",
       "      <td>-0.705272</td>\n",
       "      <td>0.112454</td>\n",
       "      <td>-0.357549</td>\n",
       "      <td>...</td>\n",
       "      <td>-0.114367</td>\n",
       "      <td>-0.046209</td>\n",
       "      <td>0.097255</td>\n",
       "      <td>0.009061</td>\n",
       "      <td>-0.058604</td>\n",
       "      <td>0.004851</td>\n",
       "      <td>0.000630</td>\n",
       "      <td>0.013215</td>\n",
       "      <td>0.004871</td>\n",
       "      <td>0.001396</td>\n",
       "    </tr>\n",
       "    <tr>\n",
       "      <th>Outage_sec_perweek</th>\n",
       "      <td>-0.013692</td>\n",
       "      <td>0.017412</td>\n",
       "      <td>-0.047987</td>\n",
       "      <td>0.074063</td>\n",
       "      <td>0.699820</td>\n",
       "      <td>0.023452</td>\n",
       "      <td>0.021355</td>\n",
       "      <td>-0.005597</td>\n",
       "      <td>-0.021703</td>\n",
       "      <td>0.000202</td>\n",
       "      <td>...</td>\n",
       "      <td>0.010910</td>\n",
       "      <td>0.679792</td>\n",
       "      <td>-0.126479</td>\n",
       "      <td>-0.120688</td>\n",
       "      <td>0.011816</td>\n",
       "      <td>0.014593</td>\n",
       "      <td>-0.018080</td>\n",
       "      <td>0.010979</td>\n",
       "      <td>-0.004150</td>\n",
       "      <td>0.000742</td>\n",
       "    </tr>\n",
       "    <tr>\n",
       "      <th>Email</th>\n",
       "      <td>0.008712</td>\n",
       "      <td>-0.020473</td>\n",
       "      <td>-0.004133</td>\n",
       "      <td>-0.105359</td>\n",
       "      <td>0.061020</td>\n",
       "      <td>-0.131234</td>\n",
       "      <td>-0.655536</td>\n",
       "      <td>0.037564</td>\n",
       "      <td>0.426645</td>\n",
       "      <td>-0.324873</td>\n",
       "      <td>...</td>\n",
       "      <td>-0.027235</td>\n",
       "      <td>-0.079048</td>\n",
       "      <td>-0.132363</td>\n",
       "      <td>0.075150</td>\n",
       "      <td>-0.016995</td>\n",
       "      <td>0.015832</td>\n",
       "      <td>0.006672</td>\n",
       "      <td>-0.015620</td>\n",
       "      <td>0.000947</td>\n",
       "      <td>0.005416</td>\n",
       "    </tr>\n",
       "    <tr>\n",
       "      <th>Contacts</th>\n",
       "      <td>-0.008537</td>\n",
       "      <td>0.003827</td>\n",
       "      <td>-0.010466</td>\n",
       "      <td>-0.041982</td>\n",
       "      <td>-0.003658</td>\n",
       "      <td>-0.458301</td>\n",
       "      <td>0.161589</td>\n",
       "      <td>-0.229415</td>\n",
       "      <td>0.444629</td>\n",
       "      <td>0.678021</td>\n",
       "      <td>...</td>\n",
       "      <td>0.122113</td>\n",
       "      <td>0.014728</td>\n",
       "      <td>0.014438</td>\n",
       "      <td>0.035751</td>\n",
       "      <td>-0.036615</td>\n",
       "      <td>0.004309</td>\n",
       "      <td>-0.026316</td>\n",
       "      <td>0.020717</td>\n",
       "      <td>-0.000582</td>\n",
       "      <td>-0.002655</td>\n",
       "    </tr>\n",
       "    <tr>\n",
       "      <th>Yearly_equip_failure</th>\n",
       "      <td>-0.007734</td>\n",
       "      <td>0.016106</td>\n",
       "      <td>0.006954</td>\n",
       "      <td>0.025460</td>\n",
       "      <td>0.052266</td>\n",
       "      <td>0.238970</td>\n",
       "      <td>0.477422</td>\n",
       "      <td>0.628350</td>\n",
       "      <td>0.179833</td>\n",
       "      <td>0.033732</td>\n",
       "      <td>...</td>\n",
       "      <td>-0.114633</td>\n",
       "      <td>-0.130983</td>\n",
       "      <td>-0.046898</td>\n",
       "      <td>0.035099</td>\n",
       "      <td>0.005043</td>\n",
       "      <td>0.014021</td>\n",
       "      <td>-0.000690</td>\n",
       "      <td>0.007611</td>\n",
       "      <td>-0.021191</td>\n",
       "      <td>-0.002384</td>\n",
       "    </tr>\n",
       "    <tr>\n",
       "      <th>Tenure</th>\n",
       "      <td>-0.010656</td>\n",
       "      <td>0.700906</td>\n",
       "      <td>-0.071577</td>\n",
       "      <td>0.002643</td>\n",
       "      <td>-0.057876</td>\n",
       "      <td>-0.017256</td>\n",
       "      <td>-0.011412</td>\n",
       "      <td>0.001684</td>\n",
       "      <td>0.004892</td>\n",
       "      <td>-0.022011</td>\n",
       "      <td>...</td>\n",
       "      <td>-0.000845</td>\n",
       "      <td>0.033003</td>\n",
       "      <td>-0.026373</td>\n",
       "      <td>0.002508</td>\n",
       "      <td>-0.010213</td>\n",
       "      <td>-0.007617</td>\n",
       "      <td>-0.012164</td>\n",
       "      <td>0.006827</td>\n",
       "      <td>0.005017</td>\n",
       "      <td>-0.704989</td>\n",
       "    </tr>\n",
       "    <tr>\n",
       "      <th>MonthlyCharge</th>\n",
       "      <td>-0.000539</td>\n",
       "      <td>0.043241</td>\n",
       "      <td>-0.024139</td>\n",
       "      <td>0.005612</td>\n",
       "      <td>0.698274</td>\n",
       "      <td>-0.092902</td>\n",
       "      <td>0.011380</td>\n",
       "      <td>-0.025317</td>\n",
       "      <td>-0.012310</td>\n",
       "      <td>-0.015702</td>\n",
       "      <td>...</td>\n",
       "      <td>0.018037</td>\n",
       "      <td>-0.658459</td>\n",
       "      <td>0.188352</td>\n",
       "      <td>0.046175</td>\n",
       "      <td>0.009632</td>\n",
       "      <td>0.013801</td>\n",
       "      <td>0.000802</td>\n",
       "      <td>0.020443</td>\n",
       "      <td>-0.012755</td>\n",
       "      <td>-0.048199</td>\n",
       "    </tr>\n",
       "    <tr>\n",
       "      <th>Bandwidth_GB_Year</th>\n",
       "      <td>-0.012562</td>\n",
       "      <td>0.702605</td>\n",
       "      <td>-0.073796</td>\n",
       "      <td>0.005273</td>\n",
       "      <td>-0.008791</td>\n",
       "      <td>0.006671</td>\n",
       "      <td>-0.015393</td>\n",
       "      <td>-0.005010</td>\n",
       "      <td>0.003064</td>\n",
       "      <td>0.001339</td>\n",
       "      <td>...</td>\n",
       "      <td>0.011569</td>\n",
       "      <td>-0.014618</td>\n",
       "      <td>-0.011019</td>\n",
       "      <td>0.013699</td>\n",
       "      <td>0.002027</td>\n",
       "      <td>-0.003400</td>\n",
       "      <td>-0.001593</td>\n",
       "      <td>-0.007547</td>\n",
       "      <td>0.007193</td>\n",
       "      <td>0.706768</td>\n",
       "    </tr>\n",
       "    <tr>\n",
       "      <th>item1</th>\n",
       "      <td>0.458840</td>\n",
       "      <td>0.032016</td>\n",
       "      <td>0.280153</td>\n",
       "      <td>0.009764</td>\n",
       "      <td>0.031800</td>\n",
       "      <td>0.005224</td>\n",
       "      <td>0.006433</td>\n",
       "      <td>0.015451</td>\n",
       "      <td>0.005991</td>\n",
       "      <td>0.023140</td>\n",
       "      <td>...</td>\n",
       "      <td>-0.015997</td>\n",
       "      <td>-0.010269</td>\n",
       "      <td>-0.018165</td>\n",
       "      <td>-0.066572</td>\n",
       "      <td>-0.118232</td>\n",
       "      <td>0.047625</td>\n",
       "      <td>0.024380</td>\n",
       "      <td>-0.238937</td>\n",
       "      <td>0.793036</td>\n",
       "      <td>-0.002908</td>\n",
       "    </tr>\n",
       "    <tr>\n",
       "      <th>item2</th>\n",
       "      <td>0.434062</td>\n",
       "      <td>0.042753</td>\n",
       "      <td>0.280996</td>\n",
       "      <td>0.017409</td>\n",
       "      <td>0.017601</td>\n",
       "      <td>-0.021580</td>\n",
       "      <td>0.010314</td>\n",
       "      <td>-0.002674</td>\n",
       "      <td>0.002454</td>\n",
       "      <td>0.007542</td>\n",
       "      <td>...</td>\n",
       "      <td>0.012920</td>\n",
       "      <td>-0.005453</td>\n",
       "      <td>-0.020644</td>\n",
       "      <td>-0.109948</td>\n",
       "      <td>-0.171985</td>\n",
       "      <td>0.071711</td>\n",
       "      <td>0.068196</td>\n",
       "      <td>-0.591008</td>\n",
       "      <td>-0.572814</td>\n",
       "      <td>-0.003015</td>\n",
       "    </tr>\n",
       "    <tr>\n",
       "      <th>item3</th>\n",
       "      <td>0.400799</td>\n",
       "      <td>0.034776</td>\n",
       "      <td>0.280738</td>\n",
       "      <td>0.014092</td>\n",
       "      <td>-0.012566</td>\n",
       "      <td>-0.003600</td>\n",
       "      <td>-0.037161</td>\n",
       "      <td>0.023111</td>\n",
       "      <td>-0.009611</td>\n",
       "      <td>-0.001798</td>\n",
       "      <td>...</td>\n",
       "      <td>-0.041221</td>\n",
       "      <td>-0.009272</td>\n",
       "      <td>0.009249</td>\n",
       "      <td>-0.172158</td>\n",
       "      <td>-0.246720</td>\n",
       "      <td>0.146139</td>\n",
       "      <td>-0.392696</td>\n",
       "      <td>0.676348</td>\n",
       "      <td>-0.176989</td>\n",
       "      <td>0.014521</td>\n",
       "    </tr>\n",
       "    <tr>\n",
       "      <th>item4</th>\n",
       "      <td>0.145615</td>\n",
       "      <td>-0.050249</td>\n",
       "      <td>-0.566930</td>\n",
       "      <td>0.016115</td>\n",
       "      <td>-0.031745</td>\n",
       "      <td>0.001451</td>\n",
       "      <td>-0.007457</td>\n",
       "      <td>0.014590</td>\n",
       "      <td>-0.004869</td>\n",
       "      <td>0.016676</td>\n",
       "      <td>...</td>\n",
       "      <td>-0.069711</td>\n",
       "      <td>-0.023099</td>\n",
       "      <td>-0.004159</td>\n",
       "      <td>-0.165655</td>\n",
       "      <td>-0.475223</td>\n",
       "      <td>0.447713</td>\n",
       "      <td>0.430823</td>\n",
       "      <td>0.087745</td>\n",
       "      <td>0.018208</td>\n",
       "      <td>0.001711</td>\n",
       "    </tr>\n",
       "    <tr>\n",
       "      <th>item5</th>\n",
       "      <td>-0.175467</td>\n",
       "      <td>0.066086</td>\n",
       "      <td>0.585752</td>\n",
       "      <td>0.012729</td>\n",
       "      <td>0.024310</td>\n",
       "      <td>-0.043130</td>\n",
       "      <td>0.002181</td>\n",
       "      <td>0.007028</td>\n",
       "      <td>-0.008165</td>\n",
       "      <td>-0.002621</td>\n",
       "      <td>...</td>\n",
       "      <td>0.015666</td>\n",
       "      <td>0.045448</td>\n",
       "      <td>0.014075</td>\n",
       "      <td>0.128963</td>\n",
       "      <td>0.062940</td>\n",
       "      <td>0.209047</td>\n",
       "      <td>0.694348</td>\n",
       "      <td>0.261138</td>\n",
       "      <td>-0.042727</td>\n",
       "      <td>-0.002924</td>\n",
       "    </tr>\n",
       "    <tr>\n",
       "      <th>item6</th>\n",
       "      <td>0.404981</td>\n",
       "      <td>-0.012244</td>\n",
       "      <td>-0.184034</td>\n",
       "      <td>-0.005375</td>\n",
       "      <td>0.006265</td>\n",
       "      <td>0.000032</td>\n",
       "      <td>0.003977</td>\n",
       "      <td>-0.000402</td>\n",
       "      <td>0.007795</td>\n",
       "      <td>0.000789</td>\n",
       "      <td>...</td>\n",
       "      <td>0.039612</td>\n",
       "      <td>-0.004292</td>\n",
       "      <td>0.004879</td>\n",
       "      <td>-0.070541</td>\n",
       "      <td>0.056278</td>\n",
       "      <td>-0.756275</td>\n",
       "      <td>0.405576</td>\n",
       "      <td>0.224512</td>\n",
       "      <td>-0.065191</td>\n",
       "      <td>0.001372</td>\n",
       "    </tr>\n",
       "    <tr>\n",
       "      <th>item7</th>\n",
       "      <td>0.358227</td>\n",
       "      <td>-0.003717</td>\n",
       "      <td>-0.180792</td>\n",
       "      <td>0.012566</td>\n",
       "      <td>-0.032906</td>\n",
       "      <td>0.018658</td>\n",
       "      <td>0.005252</td>\n",
       "      <td>-0.052176</td>\n",
       "      <td>0.034966</td>\n",
       "      <td>0.016616</td>\n",
       "      <td>...</td>\n",
       "      <td>0.001478</td>\n",
       "      <td>-0.031356</td>\n",
       "      <td>-0.018058</td>\n",
       "      <td>-0.167354</td>\n",
       "      <td>0.808506</td>\n",
       "      <td>0.372351</td>\n",
       "      <td>0.067654</td>\n",
       "      <td>0.065498</td>\n",
       "      <td>-0.041024</td>\n",
       "      <td>-0.006738</td>\n",
       "    </tr>\n",
       "    <tr>\n",
       "      <th>item8</th>\n",
       "      <td>0.308750</td>\n",
       "      <td>-0.016605</td>\n",
       "      <td>-0.132325</td>\n",
       "      <td>-0.043973</td>\n",
       "      <td>0.031819</td>\n",
       "      <td>-0.019934</td>\n",
       "      <td>0.048334</td>\n",
       "      <td>0.012971</td>\n",
       "      <td>-0.062788</td>\n",
       "      <td>-0.040182</td>\n",
       "      <td>...</td>\n",
       "      <td>0.065859</td>\n",
       "      <td>0.139404</td>\n",
       "      <td>0.066835</td>\n",
       "      <td>0.910165</td>\n",
       "      <td>-0.015381</td>\n",
       "      <td>0.107542</td>\n",
       "      <td>-0.043892</td>\n",
       "      <td>0.046281</td>\n",
       "      <td>-0.043210</td>\n",
       "      <td>-0.002996</td>\n",
       "    </tr>\n",
       "  </tbody>\n",
       "</table>\n",
       "<p>21 rows × 21 columns</p>\n",
       "</div>"
      ],
      "text/plain": [
       "                           PC1       PC2       PC3       PC4       PC5  \\\n",
       "Lat                  -0.001493 -0.020566 -0.002825  0.632033  0.000584   \n",
       "Lng                   0.008049  0.009123  0.023357 -0.491999  0.055732   \n",
       "Population           -0.000687 -0.008698 -0.000360 -0.576266  0.042456   \n",
       "Children              0.000450 -0.000793  0.010789  0.044599  0.022365   \n",
       "Age                   0.005061 -0.013214 -0.017056 -0.031877 -0.046331   \n",
       "Income               -0.000862  0.007710  0.023906  0.034352  0.001347   \n",
       "Outage_sec_perweek   -0.013692  0.017412 -0.047987  0.074063  0.699820   \n",
       "Email                 0.008712 -0.020473 -0.004133 -0.105359  0.061020   \n",
       "Contacts             -0.008537  0.003827 -0.010466 -0.041982 -0.003658   \n",
       "Yearly_equip_failure -0.007734  0.016106  0.006954  0.025460  0.052266   \n",
       "Tenure               -0.010656  0.700906 -0.071577  0.002643 -0.057876   \n",
       "MonthlyCharge        -0.000539  0.043241 -0.024139  0.005612  0.698274   \n",
       "Bandwidth_GB_Year    -0.012562  0.702605 -0.073796  0.005273 -0.008791   \n",
       "item1                 0.458840  0.032016  0.280153  0.009764  0.031800   \n",
       "item2                 0.434062  0.042753  0.280996  0.017409  0.017601   \n",
       "item3                 0.400799  0.034776  0.280738  0.014092 -0.012566   \n",
       "item4                 0.145615 -0.050249 -0.566930  0.016115 -0.031745   \n",
       "item5                -0.175467  0.066086  0.585752  0.012729  0.024310   \n",
       "item6                 0.404981 -0.012244 -0.184034 -0.005375  0.006265   \n",
       "item7                 0.358227 -0.003717 -0.180792  0.012566 -0.032906   \n",
       "item8                 0.308750 -0.016605 -0.132325 -0.043973  0.031819   \n",
       "\n",
       "                           PC6       PC7       PC8       PC9      PC10  ...  \\\n",
       "Lat                  -0.043657  0.014916 -0.087717  0.005048  0.038057  ...   \n",
       "Lng                   0.175074  0.005981 -0.056014  0.222465  0.130024  ...   \n",
       "Population           -0.039908  0.139266 -0.068278 -0.261718 -0.038115  ...   \n",
       "Children              0.653901 -0.065575 -0.050266  0.516224  0.102620  ...   \n",
       "Age                  -0.452208  0.343680  0.176274  0.429752 -0.521462  ...   \n",
       "Income                0.191747  0.411387 -0.705272  0.112454 -0.357549  ...   \n",
       "Outage_sec_perweek    0.023452  0.021355 -0.005597 -0.021703  0.000202  ...   \n",
       "Email                -0.131234 -0.655536  0.037564  0.426645 -0.324873  ...   \n",
       "Contacts             -0.458301  0.161589 -0.229415  0.444629  0.678021  ...   \n",
       "Yearly_equip_failure  0.238970  0.477422  0.628350  0.179833  0.033732  ...   \n",
       "Tenure               -0.017256 -0.011412  0.001684  0.004892 -0.022011  ...   \n",
       "MonthlyCharge        -0.092902  0.011380 -0.025317 -0.012310 -0.015702  ...   \n",
       "Bandwidth_GB_Year     0.006671 -0.015393 -0.005010  0.003064  0.001339  ...   \n",
       "item1                 0.005224  0.006433  0.015451  0.005991  0.023140  ...   \n",
       "item2                -0.021580  0.010314 -0.002674  0.002454  0.007542  ...   \n",
       "item3                -0.003600 -0.037161  0.023111 -0.009611 -0.001798  ...   \n",
       "item4                 0.001451 -0.007457  0.014590 -0.004869  0.016676  ...   \n",
       "item5                -0.043130  0.002181  0.007028 -0.008165 -0.002621  ...   \n",
       "item6                 0.000032  0.003977 -0.000402  0.007795  0.000789  ...   \n",
       "item7                 0.018658  0.005252 -0.052176  0.034966  0.016616  ...   \n",
       "item8                -0.019934  0.048334  0.012971 -0.062788 -0.040182  ...   \n",
       "\n",
       "                          PC12      PC13      PC14      PC15      PC16  \\\n",
       "Lat                  -0.177838 -0.167155 -0.712071  0.121099  0.000678   \n",
       "Lng                  -0.724866  0.015525 -0.212183  0.060996  0.027142   \n",
       "Population            0.430267 -0.128329 -0.595187 -0.026339 -0.028807   \n",
       "Children              0.438494 -0.009602 -0.057756  0.020632 -0.040037   \n",
       "Age                   0.099738  0.096212 -0.052914 -0.061221  0.009319   \n",
       "Income               -0.114367 -0.046209  0.097255  0.009061 -0.058604   \n",
       "Outage_sec_perweek    0.010910  0.679792 -0.126479 -0.120688  0.011816   \n",
       "Email                -0.027235 -0.079048 -0.132363  0.075150 -0.016995   \n",
       "Contacts              0.122113  0.014728  0.014438  0.035751 -0.036615   \n",
       "Yearly_equip_failure -0.114633 -0.130983 -0.046898  0.035099  0.005043   \n",
       "Tenure               -0.000845  0.033003 -0.026373  0.002508 -0.010213   \n",
       "MonthlyCharge         0.018037 -0.658459  0.188352  0.046175  0.009632   \n",
       "Bandwidth_GB_Year     0.011569 -0.014618 -0.011019  0.013699  0.002027   \n",
       "item1                -0.015997 -0.010269 -0.018165 -0.066572 -0.118232   \n",
       "item2                 0.012920 -0.005453 -0.020644 -0.109948 -0.171985   \n",
       "item3                -0.041221 -0.009272  0.009249 -0.172158 -0.246720   \n",
       "item4                -0.069711 -0.023099 -0.004159 -0.165655 -0.475223   \n",
       "item5                 0.015666  0.045448  0.014075  0.128963  0.062940   \n",
       "item6                 0.039612 -0.004292  0.004879 -0.070541  0.056278   \n",
       "item7                 0.001478 -0.031356 -0.018058 -0.167354  0.808506   \n",
       "item8                 0.065859  0.139404  0.066835  0.910165 -0.015381   \n",
       "\n",
       "                          PC17      PC18      PC19      PC20      PC21  \n",
       "Lat                  -0.026476 -0.004072  0.022065 -0.007783  0.001186  \n",
       "Lng                  -0.038932  0.017360 -0.002587 -0.024015  0.000925  \n",
       "Population            0.036047  0.001904  0.030197  0.003534  0.000207  \n",
       "Children              0.021048  0.011524  0.020281 -0.007474 -0.018272  \n",
       "Age                   0.001437 -0.012349  0.008801  0.016084  0.021658  \n",
       "Income                0.004851  0.000630  0.013215  0.004871  0.001396  \n",
       "Outage_sec_perweek    0.014593 -0.018080  0.010979 -0.004150  0.000742  \n",
       "Email                 0.015832  0.006672 -0.015620  0.000947  0.005416  \n",
       "Contacts              0.004309 -0.026316  0.020717 -0.000582 -0.002655  \n",
       "Yearly_equip_failure  0.014021 -0.000690  0.007611 -0.021191 -0.002384  \n",
       "Tenure               -0.007617 -0.012164  0.006827  0.005017 -0.704989  \n",
       "MonthlyCharge         0.013801  0.000802  0.020443 -0.012755 -0.048199  \n",
       "Bandwidth_GB_Year    -0.003400 -0.001593 -0.007547  0.007193  0.706768  \n",
       "item1                 0.047625  0.024380 -0.238937  0.793036 -0.002908  \n",
       "item2                 0.071711  0.068196 -0.591008 -0.572814 -0.003015  \n",
       "item3                 0.146139 -0.392696  0.676348 -0.176989  0.014521  \n",
       "item4                 0.447713  0.430823  0.087745  0.018208  0.001711  \n",
       "item5                 0.209047  0.694348  0.261138 -0.042727 -0.002924  \n",
       "item6                -0.756275  0.405576  0.224512 -0.065191  0.001372  \n",
       "item7                 0.372351  0.067654  0.065498 -0.041024 -0.006738  \n",
       "item8                 0.107542 -0.043892  0.046281 -0.043210 -0.002996  \n",
       "\n",
       "[21 rows x 21 columns]"
      ]
     },
     "execution_count": 75,
     "metadata": {},
     "output_type": "execute_result"
    }
   ],
   "source": [
    "#PCA Loadings (Middleton, 2022b)\n",
    "loadings = pd.DataFrame(pca.components_.T, \n",
    "                        columns = ['PC1', 'PC2', 'PC3', 'PC4', 'PC5', 'PC6', 'PC7', 'PC8', 'PC9', 'PC10', 'PC11', 'PC12', 'PC13', 'PC14', 'PC15', 'PC16', 'PC17', 'PC18', 'PC19', 'PC20', 'PC21'],\n",
    "                        index = PCA_df_normalized.columns)\n",
    "loadings"
   ]
  },
  {
   "cell_type": "code",
   "execution_count": 76,
   "id": "008789c5",
   "metadata": {},
   "outputs": [],
   "source": [
    "#Use Kaiser Rule to create scree plot/elbow charts of eigenvalues to determine which PCs should be kept (>1)\n",
    "cov_matrix = np.dot(PCA_df_normalized.T, PCA_df_normalized) / PCA_df.shape[0]\n",
    "eigenvalues = [np.dot(eigenvector.T, np.dot(cov_matrix, eigenvector)) for eigenvector in pca.components_]"
   ]
  },
  {
   "cell_type": "code",
   "execution_count": 77,
   "id": "f780e013",
   "metadata": {},
   "outputs": [
    {
     "data": {
      "image/png": "[encoded data removed]",
      "text/plain": [
       "<Figure size 1440x864 with 1 Axes>"
      ]
     },
     "metadata": {
      "needs_background": "light"
     },
     "output_type": "display_data"
    }
   ],
   "source": [
    "plt.figure(figsize=(20, 12))\n",
    "plt.plot(eigenvalues)\n",
    "ax1 = plt.subplot()\n",
    "ax1.set_xticks([0, 1, 2, 3, 4, 5, 6, 7, 8, 9, 10, 11, 12, 13, 14, 15, 16, 17, 18, 19, 20])\n",
    "ax1.set_xticklabels(['PC1', 'PC2', 'PC3', 'PC4', 'PC5', 'PC6', 'PC7', 'PC8', 'PC9', 'PC10', 'PC11', 'PC12', 'PC13', 'PC14', 'PC15', 'PC16', 'PC17', 'PC18', 'PC19', 'PC20', 'PC21'], fontsize = 15)\n",
    "plt.xlabel('principle components', fontsize = 20)\n",
    "plt.ylabel('eigenvalues', fontsize = 20)\n",
    "plt.axhline(y=1, color='red')\n",
    "plt.show()"
   ]
  },
  {
   "cell_type": "code",
   "execution_count": 78,
   "id": "bd03f425",
   "metadata": {},
   "outputs": [],
   "source": [
    "df.to_csv('/Users/Amanda.Hartzler/Desktop/D206_PA.csv')"
   ]
  },
  {
   "cell_type": "code",
   "execution_count": null,
   "id": "89e9cf71",
   "metadata": {},
   "outputs": [],
   "source": []
  },
  {
   "cell_type": "code",
   "execution_count": null,
   "id": "5e691564",
   "metadata": {},
   "outputs": [],
   "source": []
  }
 ],
 "metadata": {
  "kernelspec": {
   "display_name": "Python 3 (ipykernel)",
   "language": "python",
   "name": "python3"
  },
  "language_info": {
   "codemirror_mode": {
    "name": "ipython",
    "version": 3
   },
   "file_extension": ".py",
   "mimetype": "text/x-python",
   "name": "python",
   "nbconvert_exporter": "python",
   "pygments_lexer": "ipython3",
   "version": "3.9.7"
  }
 },
 "nbformat": 4,
 "nbformat_minor": 5
}
