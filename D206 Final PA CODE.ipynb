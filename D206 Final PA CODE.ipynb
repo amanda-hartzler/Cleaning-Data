{
 "cells": [
  {
   "cell_type": "code",
   "execution_count": 1,
   "id": "0a22c267",
   "metadata": {},
   "outputs": [
    {
     "data": {
      "text/html": [
       "<div>\n",
       "<style scoped>\n",
       "    .dataframe tbody tr th:only-of-type {\n",
       "        vertical-align: middle;\n",
       "    }\n",
       "\n",
       "    .dataframe tbody tr th {\n",
       "        vertical-align: top;\n",
       "    }\n",
       "\n",
       "    .dataframe thead th {\n",
       "        text-align: right;\n",
       "    }\n",
       "</style>\n",
       "<table border=\"1\" class=\"dataframe\">\n",
       "  <thead>\n",
       "    <tr style=\"text-align: right;\">\n",
       "      <th></th>\n",
       "      <th>Unnamed: 0</th>\n",
       "      <th>CaseOrder</th>\n",
       "      <th>Customer_id</th>\n",
       "      <th>Interaction</th>\n",
       "      <th>City</th>\n",
       "      <th>State</th>\n",
       "      <th>County</th>\n",
       "      <th>Zip</th>\n",
       "      <th>Lat</th>\n",
       "      <th>Lng</th>\n",
       "      <th>...</th>\n",
       "      <th>MonthlyCharge</th>\n",
       "      <th>Bandwidth_GB_Year</th>\n",
       "      <th>item1</th>\n",
       "      <th>item2</th>\n",
       "      <th>item3</th>\n",
       "      <th>item4</th>\n",
       "      <th>item5</th>\n",
       "      <th>item6</th>\n",
       "      <th>item7</th>\n",
       "      <th>item8</th>\n",
       "    </tr>\n",
       "  </thead>\n",
       "  <tbody>\n",
       "    <tr>\n",
       "      <th>0</th>\n",
       "      <td>1</td>\n",
       "      <td>1</td>\n",
       "      <td>K409198</td>\n",
       "      <td>aa90260b-4141-4a24-8e36-b04ce1f4f77b</td>\n",
       "      <td>Point Baker</td>\n",
       "      <td>AK</td>\n",
       "      <td>Prince of Wales-Hyder</td>\n",
       "      <td>99927</td>\n",
       "      <td>56.25100</td>\n",
       "      <td>-133.37571</td>\n",
       "      <td>...</td>\n",
       "      <td>171.449762</td>\n",
       "      <td>904.536110</td>\n",
       "      <td>5</td>\n",
       "      <td>5</td>\n",
       "      <td>5</td>\n",
       "      <td>3</td>\n",
       "      <td>4</td>\n",
       "      <td>4</td>\n",
       "      <td>3</td>\n",
       "      <td>4</td>\n",
       "    </tr>\n",
       "    <tr>\n",
       "      <th>1</th>\n",
       "      <td>2</td>\n",
       "      <td>2</td>\n",
       "      <td>S120509</td>\n",
       "      <td>fb76459f-c047-4a9d-8af9-e0f7d4ac2524</td>\n",
       "      <td>West Branch</td>\n",
       "      <td>MI</td>\n",
       "      <td>Ogemaw</td>\n",
       "      <td>48661</td>\n",
       "      <td>44.32893</td>\n",
       "      <td>-84.24080</td>\n",
       "      <td>...</td>\n",
       "      <td>242.948015</td>\n",
       "      <td>800.982766</td>\n",
       "      <td>3</td>\n",
       "      <td>4</td>\n",
       "      <td>3</td>\n",
       "      <td>3</td>\n",
       "      <td>4</td>\n",
       "      <td>3</td>\n",
       "      <td>4</td>\n",
       "      <td>4</td>\n",
       "    </tr>\n",
       "    <tr>\n",
       "      <th>2</th>\n",
       "      <td>3</td>\n",
       "      <td>3</td>\n",
       "      <td>K191035</td>\n",
       "      <td>344d114c-3736-4be5-98f7-c72c281e2d35</td>\n",
       "      <td>Yamhill</td>\n",
       "      <td>OR</td>\n",
       "      <td>Yamhill</td>\n",
       "      <td>97148</td>\n",
       "      <td>45.35589</td>\n",
       "      <td>-123.24657</td>\n",
       "      <td>...</td>\n",
       "      <td>159.440398</td>\n",
       "      <td>2054.706961</td>\n",
       "      <td>4</td>\n",
       "      <td>4</td>\n",
       "      <td>2</td>\n",
       "      <td>4</td>\n",
       "      <td>4</td>\n",
       "      <td>3</td>\n",
       "      <td>3</td>\n",
       "      <td>3</td>\n",
       "    </tr>\n",
       "    <tr>\n",
       "      <th>3</th>\n",
       "      <td>4</td>\n",
       "      <td>4</td>\n",
       "      <td>D90850</td>\n",
       "      <td>abfa2b40-2d43-4994-b15a-989b8c79e311</td>\n",
       "      <td>Del Mar</td>\n",
       "      <td>CA</td>\n",
       "      <td>San Diego</td>\n",
       "      <td>92014</td>\n",
       "      <td>32.96687</td>\n",
       "      <td>-117.24798</td>\n",
       "      <td>...</td>\n",
       "      <td>120.249493</td>\n",
       "      <td>2164.579412</td>\n",
       "      <td>4</td>\n",
       "      <td>4</td>\n",
       "      <td>4</td>\n",
       "      <td>2</td>\n",
       "      <td>5</td>\n",
       "      <td>4</td>\n",
       "      <td>3</td>\n",
       "      <td>3</td>\n",
       "    </tr>\n",
       "    <tr>\n",
       "      <th>4</th>\n",
       "      <td>5</td>\n",
       "      <td>5</td>\n",
       "      <td>K662701</td>\n",
       "      <td>68a861fd-0d20-4e51-a587-8a90407ee574</td>\n",
       "      <td>Needville</td>\n",
       "      <td>TX</td>\n",
       "      <td>Fort Bend</td>\n",
       "      <td>77461</td>\n",
       "      <td>29.38012</td>\n",
       "      <td>-95.80673</td>\n",
       "      <td>...</td>\n",
       "      <td>150.761216</td>\n",
       "      <td>271.493436</td>\n",
       "      <td>4</td>\n",
       "      <td>4</td>\n",
       "      <td>4</td>\n",
       "      <td>3</td>\n",
       "      <td>4</td>\n",
       "      <td>4</td>\n",
       "      <td>4</td>\n",
       "      <td>5</td>\n",
       "    </tr>\n",
       "  </tbody>\n",
       "</table>\n",
       "<p>5 rows × 52 columns</p>\n",
       "</div>"
      ],
      "text/plain": [
       "   Unnamed: 0  CaseOrder Customer_id                           Interaction  \\\n",
       "0           1          1     K409198  aa90260b-4141-4a24-8e36-b04ce1f4f77b   \n",
       "1           2          2     S120509  fb76459f-c047-4a9d-8af9-e0f7d4ac2524   \n",
       "2           3          3     K191035  344d114c-3736-4be5-98f7-c72c281e2d35   \n",
       "3           4          4      D90850  abfa2b40-2d43-4994-b15a-989b8c79e311   \n",
       "4           5          5     K662701  68a861fd-0d20-4e51-a587-8a90407ee574   \n",
       "\n",
       "          City State                 County    Zip       Lat        Lng  ...  \\\n",
       "0  Point Baker    AK  Prince of Wales-Hyder  99927  56.25100 -133.37571  ...   \n",
       "1  West Branch    MI                 Ogemaw  48661  44.32893  -84.24080  ...   \n",
       "2      Yamhill    OR                Yamhill  97148  45.35589 -123.24657  ...   \n",
       "3      Del Mar    CA              San Diego  92014  32.96687 -117.24798  ...   \n",
       "4    Needville    TX              Fort Bend  77461  29.38012  -95.80673  ...   \n",
       "\n",
       "   MonthlyCharge Bandwidth_GB_Year item1 item2  item3  item4 item5 item6  \\\n",
       "0     171.449762        904.536110     5     5      5      3     4     4   \n",
       "1     242.948015        800.982766     3     4      3      3     4     3   \n",
       "2     159.440398       2054.706961     4     4      2      4     4     3   \n",
       "3     120.249493       2164.579412     4     4      4      2     5     4   \n",
       "4     150.761216        271.493436     4     4      4      3     4     4   \n",
       "\n",
       "   item7 item8  \n",
       "0      3     4  \n",
       "1      4     4  \n",
       "2      3     3  \n",
       "3      3     3  \n",
       "4      4     5  \n",
       "\n",
       "[5 rows x 52 columns]"
      ]
     },
     "execution_count": 1,
     "metadata": {},
     "output_type": "execute_result"
    }
   ],
   "source": [
    "#import packages\n",
    "import pandas as pd \n",
    "import numpy as np\n",
    "import matplotlib.pyplot as plt\n",
    "import missingno as msno\n",
    "import seaborn as sns\n",
    "from sklearn.preprocessing import LabelEncoder\n",
    "from sklearn.decomposition import PCA\n",
    "\n",
    "#import data file & preview data \n",
    "df = pd.read_csv('/Users/Amanda.Hartzler/Desktop/Data_Analytics_Masters/D206/churn_raw_data.csv')\n",
    "df.head()"
   ]
  },
  {
   "cell_type": "code",
   "execution_count": 2,
   "id": "1cf3616a",
   "metadata": {},
   "outputs": [
    {
     "name": "stdout",
     "output_type": "stream",
     "text": [
      "<class 'pandas.core.frame.DataFrame'>\n",
      "RangeIndex: 10000 entries, 0 to 9999\n",
      "Data columns (total 52 columns):\n",
      " #   Column                Non-Null Count  Dtype  \n",
      "---  ------                --------------  -----  \n",
      " 0   Unnamed: 0            10000 non-null  int64  \n",
      " 1   CaseOrder             10000 non-null  int64  \n",
      " 2   Customer_id           10000 non-null  object \n",
      " 3   Interaction           10000 non-null  object \n",
      " 4   City                  10000 non-null  object \n",
      " 5   State                 10000 non-null  object \n",
      " 6   County                10000 non-null  object \n",
      " 7   Zip                   10000 non-null  int64  \n",
      " 8   Lat                   10000 non-null  float64\n",
      " 9   Lng                   10000 non-null  float64\n",
      " 10  Population            10000 non-null  int64  \n",
      " 11  Area                  10000 non-null  object \n",
      " 12  Timezone              10000 non-null  object \n",
      " 13  Job                   10000 non-null  object \n",
      " 14  Children              7505 non-null   float64\n",
      " 15  Age                   7525 non-null   float64\n",
      " 16  Education             10000 non-null  object \n",
      " 17  Employment            10000 non-null  object \n",
      " 18  Income                7510 non-null   float64\n",
      " 19  Marital               10000 non-null  object \n",
      " 20  Gender                10000 non-null  object \n",
      " 21  Churn                 10000 non-null  object \n",
      " 22  Outage_sec_perweek    10000 non-null  float64\n",
      " 23  Email                 10000 non-null  int64  \n",
      " 24  Contacts              10000 non-null  int64  \n",
      " 25  Yearly_equip_failure  10000 non-null  int64  \n",
      " 26  Techie                7523 non-null   object \n",
      " 27  Contract              10000 non-null  object \n",
      " 28  Port_modem            10000 non-null  object \n",
      " 29  Tablet                10000 non-null  object \n",
      " 30  InternetService       10000 non-null  object \n",
      " 31  Phone                 8974 non-null   object \n",
      " 32  Multiple              10000 non-null  object \n",
      " 33  OnlineSecurity        10000 non-null  object \n",
      " 34  OnlineBackup          10000 non-null  object \n",
      " 35  DeviceProtection      10000 non-null  object \n",
      " 36  TechSupport           9009 non-null   object \n",
      " 37  StreamingTV           10000 non-null  object \n",
      " 38  StreamingMovies       10000 non-null  object \n",
      " 39  PaperlessBilling      10000 non-null  object \n",
      " 40  PaymentMethod         10000 non-null  object \n",
      " 41  Tenure                9069 non-null   float64\n",
      " 42  MonthlyCharge         10000 non-null  float64\n",
      " 43  Bandwidth_GB_Year     8979 non-null   float64\n",
      " 44  item1                 10000 non-null  int64  \n",
      " 45  item2                 10000 non-null  int64  \n",
      " 46  item3                 10000 non-null  int64  \n",
      " 47  item4                 10000 non-null  int64  \n",
      " 48  item5                 10000 non-null  int64  \n",
      " 49  item6                 10000 non-null  int64  \n",
      " 50  item7                 10000 non-null  int64  \n",
      " 51  item8                 10000 non-null  int64  \n",
      "dtypes: float64(9), int64(15), object(28)\n",
      "memory usage: 4.0+ MB\n"
     ]
    }
   ],
   "source": [
    "#determine column names, non-null values, & types \n",
    "df.info()"
   ]
  },
  {
   "cell_type": "code",
   "execution_count": 3,
   "id": "fad5bde3",
   "metadata": {},
   "outputs": [
    {
     "data": {
      "text/plain": [
       "0       False\n",
       "1       False\n",
       "2       False\n",
       "3       False\n",
       "4       False\n",
       "        ...  \n",
       "9995    False\n",
       "9996    False\n",
       "9997    False\n",
       "9998    False\n",
       "9999    False\n",
       "Length: 10000, dtype: bool"
      ]
     },
     "execution_count": 3,
     "metadata": {},
     "output_type": "execute_result"
    }
   ],
   "source": [
    "#determine if any rows are duplicated \n",
    "df.duplicated()"
   ]
  },
  {
   "cell_type": "code",
   "execution_count": 4,
   "id": "8bb0450f",
   "metadata": {},
   "outputs": [
    {
     "name": "stdout",
     "output_type": "stream",
     "text": [
      "10000\n"
     ]
    }
   ],
   "source": [
    "#delete any duplicated rows\n",
    "df.drop_duplicates()\n",
    "print(len(df))"
   ]
  },
  {
   "cell_type": "code",
   "execution_count": 5,
   "id": "43257fcf",
   "metadata": {},
   "outputs": [
    {
     "data": {
      "text/plain": [
       "Unnamed: 0                 0\n",
       "CaseOrder                  0\n",
       "Customer_id                0\n",
       "Interaction                0\n",
       "City                       0\n",
       "State                      0\n",
       "County                     0\n",
       "Zip                        0\n",
       "Lat                        0\n",
       "Lng                        0\n",
       "Population                 0\n",
       "Area                       0\n",
       "Timezone                   0\n",
       "Job                        0\n",
       "Children                2495\n",
       "Age                     2475\n",
       "Education                  0\n",
       "Employment                 0\n",
       "Income                  2490\n",
       "Marital                    0\n",
       "Gender                     0\n",
       "Churn                      0\n",
       "Outage_sec_perweek         0\n",
       "Email                      0\n",
       "Contacts                   0\n",
       "Yearly_equip_failure       0\n",
       "Techie                  2477\n",
       "Contract                   0\n",
       "Port_modem                 0\n",
       "Tablet                     0\n",
       "InternetService            0\n",
       "Phone                   1026\n",
       "Multiple                   0\n",
       "OnlineSecurity             0\n",
       "OnlineBackup               0\n",
       "DeviceProtection           0\n",
       "TechSupport              991\n",
       "StreamingTV                0\n",
       "StreamingMovies            0\n",
       "PaperlessBilling           0\n",
       "PaymentMethod              0\n",
       "Tenure                   931\n",
       "MonthlyCharge              0\n",
       "Bandwidth_GB_Year       1021\n",
       "item1                      0\n",
       "item2                      0\n",
       "item3                      0\n",
       "item4                      0\n",
       "item5                      0\n",
       "item6                      0\n",
       "item7                      0\n",
       "item8                      0\n",
       "dtype: int64"
      ]
     },
     "execution_count": 5,
     "metadata": {},
     "output_type": "execute_result"
    }
   ],
   "source": [
    "#no duplicated values in dataset\n",
    "#determine which variables contain null values & how many null values\n",
    "df.isnull().sum()"
   ]
  },
  {
   "cell_type": "code",
   "execution_count": 6,
   "id": "d9bb2986",
   "metadata": {},
   "outputs": [
    {
     "data": {
      "text/plain": [
       "<AxesSubplot:>"
      ]
     },
     "execution_count": 6,
     "metadata": {},
     "output_type": "execute_result"
    },
    {
     "data": {
      "image/png": "[encoded data removed]",
      "text/plain": [
       "<Figure size 1800x720 with 2 Axes>"
      ]
     },
     "metadata": {
      "needs_background": "light"
     },
     "output_type": "display_data"
    }
   ],
   "source": [
    "#Missingno visualization of missing data (Middleton, 2022a)\n",
    "msno.matrix(df, fontsize = 12, labels = True)"
   ]
  },
  {
   "cell_type": "code",
   "execution_count": 7,
   "id": "ebb07bc3",
   "metadata": {},
   "outputs": [
    {
     "data": {
      "text/plain": [
       "array([[<AxesSubplot:title={'center':'Children'}>,\n",
       "        <AxesSubplot:title={'center':'Age'}>],\n",
       "       [<AxesSubplot:title={'center':'Income'}>,\n",
       "        <AxesSubplot:title={'center':'Tenure'}>],\n",
       "       [<AxesSubplot:title={'center':'Bandwidth_GB_Year'}>,\n",
       "        <AxesSubplot:>]], dtype=object)"
      ]
     },
     "execution_count": 7,
     "metadata": {},
     "output_type": "execute_result"
    },
    {
     "data": {
      "image/png": "[encoded data removed]",
      "text/plain": [
       "<Figure size 864x576 with 6 Axes>"
      ]
     },
     "metadata": {
      "needs_background": "light"
     },
     "output_type": "display_data"
    }
   ],
   "source": [
    "#Check each column containing null values that is a float or integer value. \n",
    "#Determine skew, possible ouliers, and distribution. \n",
    "df.hist(column=[\"Children\", \"Age\", \"Income\", \"Tenure\", \"Bandwidth_GB_Year\"], figsize=(12,8))"
   ]
  },
  {
   "cell_type": "code",
   "execution_count": 8,
   "id": "6bde3d8e",
   "metadata": {},
   "outputs": [
    {
     "name": "stdout",
     "output_type": "stream",
     "text": [
      "0\n"
     ]
    },
    {
     "data": {
      "image/png": "[encoded data removed]",
      "text/plain": [
       "<Figure size 432x288 with 1 Axes>"
      ]
     },
     "metadata": {
      "needs_background": "light"
     },
     "output_type": "display_data"
    }
   ],
   "source": [
    "#Children column is right skewed, therefore I will use the median to impute the data. (Middleton, 2022a)\n",
    "df['Children'].fillna(df['Children'].median(), inplace = True)\n",
    "\n",
    "#verify the data was imputed \n",
    "print(df['Children'].isnull().sum())\n",
    "\n",
    "#Check if the distribution of data was effected by the imputation of the median. \n",
    "plt.hist(df['Children'])\n",
    "plt.show()"
   ]
  },
  {
   "cell_type": "code",
   "execution_count": 9,
   "id": "e5b06193",
   "metadata": {},
   "outputs": [
    {
     "name": "stdout",
     "output_type": "stream",
     "text": [
      "0\n"
     ]
    },
    {
     "data": {
      "image/png": "[encoded data removed]",
      "text/plain": [
       "<Figure size 432x288 with 1 Axes>"
      ]
     },
     "metadata": {
      "needs_background": "light"
     },
     "output_type": "display_data"
    }
   ],
   "source": [
    "#Age column has a uniform distribution, therefore I will use the mean to impute the data. (Middleton, 2022a)\n",
    "df['Age'].fillna(df['Age'].mean(), inplace = True)\n",
    "\n",
    "#verify the data was imputed \n",
    "print(df['Age'].isnull().sum())\n",
    "\n",
    "#Check if the distribution of data was effected by the imputation of the mean. \n",
    "plt.hist(df['Age'])\n",
    "plt.show()"
   ]
  },
  {
   "cell_type": "code",
   "execution_count": 10,
   "id": "7a64fbf2",
   "metadata": {},
   "outputs": [
    {
     "name": "stdout",
     "output_type": "stream",
     "text": [
      "0\n"
     ]
    },
    {
     "data": {
      "image/png": "[encoded data removed]",
      "text/plain": [
       "<Figure size 432x288 with 1 Axes>"
      ]
     },
     "metadata": {
      "needs_background": "light"
     },
     "output_type": "display_data"
    }
   ],
   "source": [
    "#Income column has is right skewed, therefore I will use the median to impute the data. (Middleton, 2022a)\n",
    "df['Income'].fillna(df['Income'].median(), inplace = True)\n",
    "\n",
    "#verify the data was imputed \n",
    "print(df['Income'].isnull().sum())\n",
    "\n",
    "#Check if the distribution of data was effected by the imputation of the median. \n",
    "plt.hist(df['Income'])\n",
    "plt.show()"
   ]
  },
  {
   "cell_type": "code",
   "execution_count": 11,
   "id": "7a465472",
   "metadata": {},
   "outputs": [
    {
     "name": "stdout",
     "output_type": "stream",
     "text": [
      "0\n"
     ]
    },
    {
     "data": {
      "image/png": "[encoded data removed]",
      "text/plain": [
       "<Figure size 432x288 with 1 Axes>"
      ]
     },
     "metadata": {
      "needs_background": "light"
     },
     "output_type": "display_data"
    }
   ],
   "source": [
    "#Tenure column has a bimodal distribution, therefore I decided to use the median to impute the data. (Middleton, 2022a)  \n",
    "df['Tenure'].fillna(df['Tenure'].median(), inplace = True)\n",
    "\n",
    "#verify the data was imputed \n",
    "print(df['Tenure'].isnull().sum())\n",
    "\n",
    "#Check if the distribution of data was effected by the imputation of the mean. \n",
    "plt.hist(df['Tenure'])\n",
    "plt.show()"
   ]
  },
  {
   "cell_type": "code",
   "execution_count": 12,
   "id": "b76ef753",
   "metadata": {},
   "outputs": [
    {
     "name": "stdout",
     "output_type": "stream",
     "text": [
      "0\n"
     ]
    },
    {
     "data": {
      "image/png": "[encoded data removed]",
      "text/plain": [
       "<Figure size 432x288 with 1 Axes>"
      ]
     },
     "metadata": {
      "needs_background": "light"
     },
     "output_type": "display_data"
    }
   ],
   "source": [
    "#Bandwidth_GB_Year column has a bimodal distribution, therefore I decided to use the median to impute the data. (Middleton, 2022a)  \n",
    "df['Bandwidth_GB_Year'].fillna(df['Bandwidth_GB_Year'].median(), inplace = True)\n",
    "\n",
    "#verify the data was imputed \n",
    "print(df['Bandwidth_GB_Year'].isnull().sum())\n",
    "\n",
    "#Check if the distribution of data was effected by the imputation of the mean. \n",
    "plt.hist(df['Bandwidth_GB_Year'])\n",
    "plt.show()"
   ]
  },
  {
   "cell_type": "code",
   "execution_count": 13,
   "id": "f9c20976",
   "metadata": {},
   "outputs": [
    {
     "name": "stdout",
     "output_type": "stream",
     "text": [
      "0\n"
     ]
    }
   ],
   "source": [
    "#Clean null values from object or text columns using the mode. (Middleton, 2022a)\n",
    "#Techie column is text, therefore I will use the mode to impute the data. \n",
    "df['Techie'] = df['Techie'].fillna(df['Techie'].mode()[0])\n",
    "\n",
    "#verify the data was imputed \n",
    "print(df['Techie'].isnull().sum())"
   ]
  },
  {
   "cell_type": "code",
   "execution_count": 14,
   "id": "856574d8",
   "metadata": {},
   "outputs": [
    {
     "name": "stdout",
     "output_type": "stream",
     "text": [
      "0\n"
     ]
    }
   ],
   "source": [
    "#Phone column is text, therefore I will use the mode to impute the data. (Middleton, 2022a)\n",
    "df['Phone'] = df['Phone'].fillna(df['Phone'].mode()[0])\n",
    "\n",
    "#verify the data was imputed \n",
    "print(df['Phone'].isnull().sum())"
   ]
  },
  {
   "cell_type": "code",
   "execution_count": 15,
   "id": "ad0f8857",
   "metadata": {},
   "outputs": [
    {
     "name": "stdout",
     "output_type": "stream",
     "text": [
      "0\n"
     ]
    }
   ],
   "source": [
    "#TechSupport column is text, therefore I will use the mode to impute the data. (Middleton, 2022a)\n",
    "df['TechSupport'] = df['TechSupport'].fillna(df['TechSupport'].mode()[0])\n",
    "\n",
    "#verify the data was imputed \n",
    "print(df['TechSupport'].isnull().sum())"
   ]
  },
  {
   "cell_type": "code",
   "execution_count": 16,
   "id": "27b0a7d4",
   "metadata": {},
   "outputs": [
    {
     "data": {
      "text/plain": [
       "Unnamed: 0              0\n",
       "CaseOrder               0\n",
       "Customer_id             0\n",
       "Interaction             0\n",
       "City                    0\n",
       "State                   0\n",
       "County                  0\n",
       "Zip                     0\n",
       "Lat                     0\n",
       "Lng                     0\n",
       "Population              0\n",
       "Area                    0\n",
       "Timezone                0\n",
       "Job                     0\n",
       "Children                0\n",
       "Age                     0\n",
       "Education               0\n",
       "Employment              0\n",
       "Income                  0\n",
       "Marital                 0\n",
       "Gender                  0\n",
       "Churn                   0\n",
       "Outage_sec_perweek      0\n",
       "Email                   0\n",
       "Contacts                0\n",
       "Yearly_equip_failure    0\n",
       "Techie                  0\n",
       "Contract                0\n",
       "Port_modem              0\n",
       "Tablet                  0\n",
       "InternetService         0\n",
       "Phone                   0\n",
       "Multiple                0\n",
       "OnlineSecurity          0\n",
       "OnlineBackup            0\n",
       "DeviceProtection        0\n",
       "TechSupport             0\n",
       "StreamingTV             0\n",
       "StreamingMovies         0\n",
       "PaperlessBilling        0\n",
       "PaymentMethod           0\n",
       "Tenure                  0\n",
       "MonthlyCharge           0\n",
       "Bandwidth_GB_Year       0\n",
       "item1                   0\n",
       "item2                   0\n",
       "item3                   0\n",
       "item4                   0\n",
       "item5                   0\n",
       "item6                   0\n",
       "item7                   0\n",
       "item8                   0\n",
       "dtype: int64"
      ]
     },
     "execution_count": 16,
     "metadata": {},
     "output_type": "execute_result"
    }
   ],
   "source": [
    "#double-check all null values have been imputed\n",
    "df.isnull().sum()"
   ]
  },
  {
   "cell_type": "code",
   "execution_count": 17,
   "id": "c8b61f5e",
   "metadata": {},
   "outputs": [
    {
     "data": {
      "image/png": "[encoded data removed]",
      "text/plain": [
       "<Figure size 432x288 with 1 Axes>"
      ]
     },
     "metadata": {
      "needs_background": "light"
     },
     "output_type": "display_data"
    },
    {
     "data": {
      "image/png": "[encoded data removed]",
      "text/plain": [
       "<Figure size 432x288 with 1 Axes>"
      ]
     },
     "metadata": {
      "needs_background": "light"
     },
     "output_type": "display_data"
    },
    {
     "data": {
      "image/png": "[encoded data removed]",
      "text/plain": [
       "<Figure size 432x288 with 1 Axes>"
      ]
     },
     "metadata": {
      "needs_background": "light"
     },
     "output_type": "display_data"
    },
    {
     "data": {
      "image/png": "[encoded data removed]",
      "text/plain": [
       "<Figure size 432x288 with 1 Axes>"
      ]
     },
     "metadata": {
      "needs_background": "light"
     },
     "output_type": "display_data"
    },
    {
     "data": {
      "image/png": "[encoded data removed]",
      "text/plain": [
       "<Figure size 432x288 with 1 Axes>"
      ]
     },
     "metadata": {
      "needs_background": "light"
     },
     "output_type": "display_data"
    },
    {
     "data": {
      "image/png": "[encoded data removed]",
      "text/plain": [
       "<Figure size 432x288 with 1 Axes>"
      ]
     },
     "metadata": {
      "needs_background": "light"
     },
     "output_type": "display_data"
    },
    {
     "data": {
      "image/png": "[encoded data removed]",
      "text/plain": [
       "<Figure size 432x288 with 1 Axes>"
      ]
     },
     "metadata": {
      "needs_background": "light"
     },
     "output_type": "display_data"
    },
    {
     "data": {
      "image/png": "[encoded data removed]",
      "text/plain": [
       "<Figure size 432x288 with 1 Axes>"
      ]
     },
     "metadata": {
      "needs_background": "light"
     },
     "output_type": "display_data"
    },
    {
     "data": {
      "image/png": "[encoded data removed]",
      "text/plain": [
       "<Figure size 432x288 with 1 Axes>"
      ]
     },
     "metadata": {
      "needs_background": "light"
     },
     "output_type": "display_data"
    },
    {
     "data": {
      "image/png": "[encoded data removed]",
      "text/plain": [
       "<Figure size 432x288 with 1 Axes>"
      ]
     },
     "metadata": {
      "needs_background": "light"
     },
     "output_type": "display_data"
    },
    {
     "data": {
      "image/png": "[encoded data removed]",
      "text/plain": [
       "<Figure size 432x288 with 1 Axes>"
      ]
     },
     "metadata": {
      "needs_background": "light"
     },
     "output_type": "display_data"
    },
    {
     "data": {
      "image/png": "[encoded data removed]",
      "text/plain": [
       "<Figure size 432x288 with 1 Axes>"
      ]
     },
     "metadata": {
      "needs_background": "light"
     },
     "output_type": "display_data"
    },
    {
     "data": {
      "image/png": "[encoded data removed]",
      "text/plain": [
       "<Figure size 432x288 with 1 Axes>"
      ]
     },
     "metadata": {
      "needs_background": "light"
     },
     "output_type": "display_data"
    },
    {
     "data": {
      "image/png": "[encoded data removed]",
      "text/plain": [
       "<Figure size 432x288 with 1 Axes>"
      ]
     },
     "metadata": {
      "needs_background": "light"
     },
     "output_type": "display_data"
    },
    {
     "data": {
      "image/png": "[encoded data removed]",
      "text/plain": [
       "<Figure size 432x288 with 1 Axes>"
      ]
     },
     "metadata": {
      "needs_background": "light"
     },
     "output_type": "display_data"
    },
    {
     "data": {
      "image/png": "[encoded data removed]",
      "text/plain": [
       "<Figure size 432x288 with 1 Axes>"
      ]
     },
     "metadata": {
      "needs_background": "light"
     },
     "output_type": "display_data"
    },
    {
     "data": {
      "image/png": "[encoded data removed]",
      "text/plain": [
       "<Figure size 432x288 with 1 Axes>"
      ]
     },
     "metadata": {
      "needs_background": "light"
     },
     "output_type": "display_data"
    },
    {
     "data": {
      "image/png": "[encoded data removed]",
      "text/plain": [
       "<Figure size 432x288 with 1 Axes>"
      ]
     },
     "metadata": {
      "needs_background": "light"
     },
     "output_type": "display_data"
    },
    {
     "data": {
      "image/png": "[encoded data removed]",
      "text/plain": [
       "<Figure size 432x288 with 1 Axes>"
      ]
     },
     "metadata": {
      "needs_background": "light"
     },
     "output_type": "display_data"
    },
    {
     "data": {
      "image/png": "[encoded data removed]",
      "text/plain": [
       "<Figure size 432x288 with 1 Axes>"
      ]
     },
     "metadata": {
      "needs_background": "light"
     },
     "output_type": "display_data"
    },
    {
     "data": {
      "image/png": "[encoded data removed]",
      "text/plain": [
       "<Figure size 432x288 with 1 Axes>"
      ]
     },
     "metadata": {
      "needs_background": "light"
     },
     "output_type": "display_data"
    },
    {
     "data": {
      "image/png": "[encoded data removed]",
      "text/plain": [
       "<Figure size 432x288 with 1 Axes>"
      ]
     },
     "metadata": {
      "needs_background": "light"
     },
     "output_type": "display_data"
    },
    {
     "data": {
      "image/png": "[encoded data removed]",
      "text/plain": [
       "<Figure size 432x288 with 1 Axes>"
      ]
     },
     "metadata": {
      "needs_background": "light"
     },
     "output_type": "display_data"
    }
   ],
   "source": [
    "#Using Boxplots, check for outliers in each in each float or integer value column. (Middleton, 2022a)\n",
    "caseorder_boxplot = sns.boxplot(x = \"CaseOrder\", data = df)\n",
    "plt.show()\n",
    "\n",
    "Zip_boxplot = sns.boxplot(x = \"Zip\", data = df)\n",
    "plt.show()\n",
    "\n",
    "Lat_boxplot = sns.boxplot(x = \"Lat\", data = df)\n",
    "plt.show()\n",
    "\n",
    "Lng_boxplot = sns.boxplot(x = \"Lng\", data = df)\n",
    "plt.show()\n",
    "\n",
    "Population_boxplot = sns.boxplot(x = \"Population\", data = df)\n",
    "plt.show()\n",
    "\n",
    "Children_boxplot = sns.boxplot(x = \"Children\", data = df)\n",
    "plt.show()\n",
    "\n",
    "Age_boxplot = sns.boxplot(x = \"Age\", data = df)\n",
    "plt.show()\n",
    "\n",
    "Income_boxplot = sns.boxplot(x = \"Income\", data = df)\n",
    "plt.show()\n",
    "\n",
    "Outage_sec_perweek_boxplot = sns.boxplot(x = \"Outage_sec_perweek\", data = df)\n",
    "plt.show()\n",
    "\n",
    "Email_boxplot = sns.boxplot(x = \"Email\", data = df)\n",
    "plt.show()\n",
    "\n",
    "Contancts_boxplot = sns.boxplot(x = \"Contacts\", data = df)\n",
    "plt.show()\n",
    "\n",
    "Yearly_equip_failure_boxplot = sns.boxplot(x = \"Yearly_equip_failure\", data = df)\n",
    "plt.show()\n",
    "\n",
    "Tenure_boxplot = sns.boxplot(x = \"Tenure\", data = df)\n",
    "plt.show()\n",
    "\n",
    "MonthlyCharge_boxplot = sns.boxplot(x = \"MonthlyCharge\", data = df)\n",
    "plt.show()\n",
    "\n",
    "Bandwidth_GB_Year_boxplot = sns.boxplot(x = \"Bandwidth_GB_Year\", data = df)\n",
    "plt.show()\n",
    "\n",
    "item1_boxplot = sns.boxplot(x = \"item1\", data = df)\n",
    "plt.show()\n",
    "\n",
    "item2_boxplot = sns.boxplot(x = \"item2\", data = df)\n",
    "plt.show()\n",
    "\n",
    "item3_boxplot = sns.boxplot(x = \"item3\", data = df)\n",
    "plt.show()\n",
    "\n",
    "item4_boxplot = sns.boxplot(x = \"item4\", data = df)\n",
    "plt.show()\n",
    "\n",
    "item5_boxplot = sns.boxplot(x = \"item5\", data = df)\n",
    "plt.show()\n",
    "\n",
    "item6_boxplot = sns.boxplot(x = \"item6\", data = df)\n",
    "plt.show()\n",
    "\n",
    "item7_boxplot = sns.boxplot(x = \"item7\", data = df)\n",
    "plt.show()\n",
    "\n",
    "item8_boxplot = sns.boxplot(x = \"item8\", data = df)\n",
    "plt.show()"
   ]
  },
  {
   "cell_type": "code",
   "execution_count": 18,
   "id": "26084dde",
   "metadata": {},
   "outputs": [
    {
     "name": "stdout",
     "output_type": "stream",
     "text": [
      "70.64066\n",
      "17.96612\n"
     ]
    }
   ],
   "source": [
    "#Outliers found in Lat, Lng, Population, Children, Income, Outage_sec_perweek, Email, Contacts, Yearly_equip_failure, MonthlyCharge, item1, item2, item3, item4, item5, item6, item7, & item8 columns. \n",
    "#Treating outliers: \n",
    "print(df['Lat'].max())\n",
    "print(df['Lat'].min())"
   ]
  },
  {
   "cell_type": "code",
   "execution_count": 19,
   "id": "28775ac5",
   "metadata": {},
   "outputs": [
    {
     "name": "stdout",
     "output_type": "stream",
     "text": [
      "-65.66785\n",
      "-171.68815\n"
     ]
    }
   ],
   "source": [
    "#Retain outliers in Lat (Incuding US territories, the min and max are within a valid range) (Bathman, 2018)\n",
    "print(df['Lng'].max())\n",
    "print(df['Lng'].min())"
   ]
  },
  {
   "cell_type": "code",
   "execution_count": 20,
   "id": "b9c8b200",
   "metadata": {},
   "outputs": [
    {
     "name": "stdout",
     "output_type": "stream",
     "text": [
      "count     10000.000000\n",
      "mean       9756.562400\n",
      "std       14432.698671\n",
      "min           0.000000\n",
      "25%         738.000000\n",
      "50%        2910.500000\n",
      "75%       13168.000000\n",
      "max      111850.000000\n",
      "Name: Population, dtype: float64\n"
     ]
    }
   ],
   "source": [
    "#Retain outliers in Lng (Incuding US territories, the min and max are within a valid range) (Bathman, 2018)\n",
    "print(df['Population'].describe())"
   ]
  },
  {
   "cell_type": "code",
   "execution_count": 21,
   "id": "272d6cd8",
   "metadata": {},
   "outputs": [
    {
     "name": "stdout",
     "output_type": "stream",
     "text": [
      "count    10000.000000\n",
      "mean      4949.264200\n",
      "std       6338.293875\n",
      "min          0.000000\n",
      "25%        738.000000\n",
      "50%       2910.500000\n",
      "75%       5943.000000\n",
      "max      26999.000000\n",
      "Name: Population, dtype: float64\n"
     ]
    }
   ],
   "source": [
    "#Replace outlier population values > 27,000 \n",
    "#New York City, NY, has the most density population in the US. In New York the max population density is a little over 27,000 per square mile. Therefore the right skewed outliers are likely entry errors. (Planning-Population-NYC Population Facts - DCP, n.d.)\n",
    "df['Population'] = np.where(df['Population'] >= 27000, 2931, df['Population']) #(Singh, 2019)\n",
    "print(df['Population'].describe())"
   ]
  },
  {
   "cell_type": "code",
   "execution_count": 22,
   "id": "3d3cc6a9",
   "metadata": {},
   "outputs": [
    {
     "data": {
      "image/png": "[encoded data removed]",
      "text/plain": [
       "<Figure size 432x288 with 1 Axes>"
      ]
     },
     "metadata": {
      "needs_background": "light"
     },
     "output_type": "display_data"
    }
   ],
   "source": [
    "#Check distribution of population data. \n",
    "Population_boxplot = sns.boxplot(x = \"Population\", data = df).set_title(\"Population\")\n",
    "plt.show()"
   ]
  },
  {
   "cell_type": "code",
   "execution_count": 23,
   "id": "518134db",
   "metadata": {},
   "outputs": [
    {
     "name": "stdout",
     "output_type": "stream",
     "text": [
      "258900.7\n",
      "47.04928\n",
      "-1.348571\n"
     ]
    }
   ],
   "source": [
    "#Check that the max income is within a reasonable range\n",
    "print(df['Income'].max())\n",
    "\n",
    "#Check that the max and min outage_sec_perweek is within a reasonable range\n",
    "print(df['Outage_sec_perweek'].max())\n",
    "print(df['Outage_sec_perweek'].min())"
   ]
  },
  {
   "cell_type": "code",
   "execution_count": 24,
   "id": "bedab303",
   "metadata": {},
   "outputs": [
    {
     "data": {
      "text/plain": [
       "count    10000.000000\n",
       "mean        11.452955\n",
       "std          7.025921\n",
       "min         -1.348571\n",
       "25%          8.054362\n",
       "50%         10.202896\n",
       "75%         12.487644\n",
       "max         47.049280\n",
       "Name: Outage_sec_perweek, dtype: float64"
      ]
     },
     "execution_count": 24,
     "metadata": {},
     "output_type": "execute_result"
    }
   ],
   "source": [
    "#Retain outliers in Children (All values are possible children values)\n",
    "#Retain outliers in Income (All values are possible income values)\n",
    "df['Outage_sec_perweek'].describe()"
   ]
  },
  {
   "cell_type": "code",
   "execution_count": 25,
   "id": "7e88cdc3",
   "metadata": {},
   "outputs": [
    {
     "name": "stdout",
     "output_type": "stream",
     "text": [
      "count    10000.000000\n",
      "mean        11.464828\n",
      "std          7.014674\n",
      "min          0.113821\n",
      "25%          8.066905\n",
      "50%         10.213912\n",
      "75%         12.487644\n",
      "max         47.049280\n",
      "Name: Outage_sec_perweek, dtype: float64\n"
     ]
    }
   ],
   "source": [
    "#Replace negative outliers in Outage_sec_perweek with median because you cannot have less than zero secons of outage\n",
    "df['Outage_sec_perweek'] = np.where(df['Outage_sec_perweek'] < 0, 10.214231, df['Outage_sec_perweek']) #(Singh, 2019)\n",
    "print(df['Outage_sec_perweek'].describe())"
   ]
  },
  {
   "cell_type": "code",
   "execution_count": 26,
   "id": "12391ddd",
   "metadata": {},
   "outputs": [
    {
     "data": {
      "image/png": "[encoded data removed]",
      "text/plain": [
       "<Figure size 432x288 with 1 Axes>"
      ]
     },
     "metadata": {
      "needs_background": "light"
     },
     "output_type": "display_data"
    }
   ],
   "source": [
    "#Check distribution of Outage_sec_perweek data. \n",
    "Outage_sec_perweek_boxplot = sns.boxplot(x = \"Outage_sec_perweek\", data = df).set_title(\"Outage_sec_perweek\")\n",
    "plt.show()"
   ]
  },
  {
   "cell_type": "code",
   "execution_count": 27,
   "id": "709ebb98",
   "metadata": {},
   "outputs": [
    {
     "name": "stdout",
     "output_type": "stream",
     "text": [
      "315.8786\n"
     ]
    }
   ],
   "source": [
    "#Check that the MonthlyCharge income is within a reasonable range\n",
    "print(df['MonthlyCharge'].max())"
   ]
  },
  {
   "cell_type": "code",
   "execution_count": 28,
   "id": "b0ae71d2",
   "metadata": {},
   "outputs": [],
   "source": [
    "#Retain outliers in Email (All values are possible email values)\n",
    "#Retain outliers in Contacts (All values are possible contact values)\n",
    "#Retain outliers in Yearly_equip_failure (All values are possible equipment failure values)\n",
    "#Retain outliers in MonthlyCharge (All values are possible monthly charge values)\n",
    "#Retain outliers in all item answers (All values are possible values for each item answer)"
   ]
  },
  {
   "cell_type": "code",
   "execution_count": 29,
   "id": "440eef5d",
   "metadata": {},
   "outputs": [
    {
     "name": "stdout",
     "output_type": "stream",
     "text": [
      "0    0\n",
      "1    1\n",
      "2    0\n",
      "3    0\n",
      "4    1\n",
      "Name: Churn, dtype: int64\n"
     ]
    }
   ],
   "source": [
    "#Re-expressing Categorical Variables (Middleton, 2022c)\n",
    "#Practice label encoding yes/no dichotomous binary columns. (By Great Learning Team -, 2022)\n",
    "labelencoder = LabelEncoder()\n",
    "df['Churn'] = labelencoder.fit_transform(df['Churn'])\n",
    "print(df['Churn'].head())"
   ]
  },
  {
   "cell_type": "code",
   "execution_count": 30,
   "id": "ca9598e8",
   "metadata": {},
   "outputs": [],
   "source": [
    "df['Techie'] = labelencoder.fit_transform(df['Techie'])\n",
    "df['Port_modem'] = labelencoder.fit_transform(df['Port_modem'])\n",
    "df['Phone'] = labelencoder.fit_transform(df['Phone'])"
   ]
  },
  {
   "cell_type": "code",
   "execution_count": 31,
   "id": "e81bef4a",
   "metadata": {},
   "outputs": [
    {
     "name": "stdout",
     "output_type": "stream",
     "text": [
      "[\"Master's Degree\" 'Regular High School Diploma' 'Doctorate Degree'\n",
      " 'No Schooling Completed' \"Associate's Degree\" \"Bachelor's Degree\"\n",
      " 'Some College, Less than 1 Year' 'GED or Alternative Credential'\n",
      " 'Some College, 1 or More Years, No Degree'\n",
      " '9th Grade to 12th Grade, No Diploma' 'Nursery School to 8th Grade'\n",
      " 'Professional School Degree']\n",
      "12\n"
     ]
    }
   ],
   "source": [
    "#Practice Ordinal Encoding (Middleton, 2022c)\n",
    "#First find unique entiries in the education table. \n",
    "print(df['Education'].unique())\n",
    "print(len(df['Education'].unique()))"
   ]
  },
  {
   "cell_type": "code",
   "execution_count": 32,
   "id": "2b54d38b",
   "metadata": {},
   "outputs": [],
   "source": [
    "df['Education_numeric'] = df['Education'] \n",
    "dict_edu = {'Education_numeric': {'No Schooling Completed': 0, 'Nursery School to 8th Grade': 1, '9th Grade to 12th Grade, No Diploma': 2, 'GED or Alternative Credential': 3, 'Regular High School Diploma': 4, 'Some College, Less than 1 Year': 5, 'Some College, 1 or More Years, No Degree': 6, \"Associate's Degree\": 7, 'Professional School Degree': 8, \"Bachelor's Degree\": 9, \"Master's Degree\": 10, 'Doctorate Degree': 11}}\n",
    "df.replace(dict_edu, inplace = True) #(Middleton, 2022c)"
   ]
  },
  {
   "cell_type": "code",
   "execution_count": 33,
   "id": "ae4573d5",
   "metadata": {},
   "outputs": [
    {
     "data": {
      "text/plain": [
       "array([10,  4, 11,  0,  7,  9,  5,  3,  6,  2,  1,  8])"
      ]
     },
     "execution_count": 33,
     "metadata": {},
     "output_type": "execute_result"
    }
   ],
   "source": [
    "#Check that Education_numeric was created correctly.\n",
    "df['Education_numeric'].unique()"
   ]
  },
  {
   "cell_type": "code",
   "execution_count": 34,
   "id": "e12cfe6b",
   "metadata": {},
   "outputs": [
    {
     "data": {
      "text/plain": [
       "PCA(n_components=22)"
      ]
     },
     "execution_count": 34,
     "metadata": {},
     "output_type": "execute_result"
    }
   ],
   "source": [
    "#Principal Component Analysis (Middleton, 2022b)\n",
    "PCA_df = df[['Zip', 'Lat', 'Lng', 'Population', 'Children', 'Age', 'Income', 'Outage_sec_perweek', 'Email', 'Contacts', 'Yearly_equip_failure', 'Tenure', 'MonthlyCharge', 'Bandwidth_GB_Year', 'item1', 'item2', 'item3', 'item4', 'item5', 'item6', 'item7', 'item8']]\n",
    "PCA_df_normalized = (PCA_df - PCA_df.mean()) / PCA_df.std()\n",
    "pca = PCA(n_components = PCA_df.shape[1])\n",
    "pca.fit(PCA_df_normalized)"
   ]
  },
  {
   "cell_type": "code",
   "execution_count": 35,
   "id": "5dab12af",
   "metadata": {},
   "outputs": [],
   "source": [
    "test_pca = pd.DataFrame(pca.transform(PCA_df_normalized), \n",
    "                        columns = ['PC1', 'PC2', 'PC3', 'PC4', 'PC5', 'PC6', 'PC7', 'PC8', 'PC9', 'PC10', 'PC11', 'PC12', 'PC13', 'PC14', 'PC15', 'PC16', 'PC17', 'PC18', 'PC19', 'PC20', 'PC21', 'PC22'])\n",
    "#(Middleton, 2022b)"
   ]
  },
  {
   "cell_type": "code",
   "execution_count": 36,
   "id": "35875a57",
   "metadata": {},
   "outputs": [
    {
     "data": {
      "text/html": [
       "<div>\n",
       "<style scoped>\n",
       "    .dataframe tbody tr th:only-of-type {\n",
       "        vertical-align: middle;\n",
       "    }\n",
       "\n",
       "    .dataframe tbody tr th {\n",
       "        vertical-align: top;\n",
       "    }\n",
       "\n",
       "    .dataframe thead th {\n",
       "        text-align: right;\n",
       "    }\n",
       "</style>\n",
       "<table border=\"1\" class=\"dataframe\">\n",
       "  <thead>\n",
       "    <tr style=\"text-align: right;\">\n",
       "      <th></th>\n",
       "      <th>PC1</th>\n",
       "      <th>PC2</th>\n",
       "      <th>PC3</th>\n",
       "      <th>PC4</th>\n",
       "      <th>PC5</th>\n",
       "      <th>PC6</th>\n",
       "      <th>PC7</th>\n",
       "      <th>PC8</th>\n",
       "      <th>PC9</th>\n",
       "      <th>PC10</th>\n",
       "      <th>...</th>\n",
       "      <th>PC13</th>\n",
       "      <th>PC14</th>\n",
       "      <th>PC15</th>\n",
       "      <th>PC16</th>\n",
       "      <th>PC17</th>\n",
       "      <th>PC18</th>\n",
       "      <th>PC19</th>\n",
       "      <th>PC20</th>\n",
       "      <th>PC21</th>\n",
       "      <th>PC22</th>\n",
       "    </tr>\n",
       "  </thead>\n",
       "  <tbody>\n",
       "    <tr>\n",
       "      <th>Zip</th>\n",
       "      <td>-0.018857</td>\n",
       "      <td>0.640196</td>\n",
       "      <td>0.274515</td>\n",
       "      <td>0.044818</td>\n",
       "      <td>-0.106838</td>\n",
       "      <td>0.071944</td>\n",
       "      <td>0.031719</td>\n",
       "      <td>0.000492</td>\n",
       "      <td>-0.005511</td>\n",
       "      <td>0.022139</td>\n",
       "      <td>...</td>\n",
       "      <td>0.002398</td>\n",
       "      <td>-0.029411</td>\n",
       "      <td>-0.012342</td>\n",
       "      <td>-0.006171</td>\n",
       "      <td>-0.012355</td>\n",
       "      <td>-0.002884</td>\n",
       "      <td>-0.003716</td>\n",
       "      <td>0.010657</td>\n",
       "      <td>0.038797</td>\n",
       "      <td>-0.700159</td>\n",
       "    </tr>\n",
       "    <tr>\n",
       "      <th>Lat</th>\n",
       "      <td>-0.001599</td>\n",
       "      <td>0.063060</td>\n",
       "      <td>0.006528</td>\n",
       "      <td>0.007661</td>\n",
       "      <td>0.604093</td>\n",
       "      <td>-0.349158</td>\n",
       "      <td>-0.176803</td>\n",
       "      <td>0.012347</td>\n",
       "      <td>-0.058159</td>\n",
       "      <td>-0.109777</td>\n",
       "      <td>...</td>\n",
       "      <td>-0.200539</td>\n",
       "      <td>0.623343</td>\n",
       "      <td>0.088237</td>\n",
       "      <td>-0.006956</td>\n",
       "      <td>0.017977</td>\n",
       "      <td>-0.005654</td>\n",
       "      <td>0.020434</td>\n",
       "      <td>-0.004895</td>\n",
       "      <td>0.007603</td>\n",
       "      <td>-0.112268</td>\n",
       "    </tr>\n",
       "    <tr>\n",
       "      <th>Lng</th>\n",
       "      <td>0.016820</td>\n",
       "      <td>-0.645631</td>\n",
       "      <td>-0.274957</td>\n",
       "      <td>-0.043551</td>\n",
       "      <td>0.022623</td>\n",
       "      <td>-0.021301</td>\n",
       "      <td>-0.005119</td>\n",
       "      <td>0.002327</td>\n",
       "      <td>0.017931</td>\n",
       "      <td>-0.000857</td>\n",
       "      <td>...</td>\n",
       "      <td>0.029223</td>\n",
       "      <td>-0.084953</td>\n",
       "      <td>-0.002360</td>\n",
       "      <td>0.006683</td>\n",
       "      <td>0.009532</td>\n",
       "      <td>0.011353</td>\n",
       "      <td>-0.009383</td>\n",
       "      <td>-0.009367</td>\n",
       "      <td>0.040591</td>\n",
       "      <td>-0.702603</td>\n",
       "    </tr>\n",
       "    <tr>\n",
       "      <th>Population</th>\n",
       "      <td>0.000251</td>\n",
       "      <td>-0.096550</td>\n",
       "      <td>-0.052923</td>\n",
       "      <td>-0.014276</td>\n",
       "      <td>-0.535631</td>\n",
       "      <td>0.363898</td>\n",
       "      <td>0.109653</td>\n",
       "      <td>0.142259</td>\n",
       "      <td>-0.134156</td>\n",
       "      <td>-0.112202</td>\n",
       "      <td>...</td>\n",
       "      <td>-0.170708</td>\n",
       "      <td>0.685233</td>\n",
       "      <td>-0.030817</td>\n",
       "      <td>-0.028835</td>\n",
       "      <td>-0.035797</td>\n",
       "      <td>0.001980</td>\n",
       "      <td>0.030228</td>\n",
       "      <td>0.003641</td>\n",
       "      <td>0.000951</td>\n",
       "      <td>-0.013681</td>\n",
       "    </tr>\n",
       "    <tr>\n",
       "      <th>Children</th>\n",
       "      <td>0.000736</td>\n",
       "      <td>-0.026545</td>\n",
       "      <td>-0.012707</td>\n",
       "      <td>0.007702</td>\n",
       "      <td>0.165599</td>\n",
       "      <td>-0.099441</td>\n",
       "      <td>0.558512</td>\n",
       "      <td>-0.066208</td>\n",
       "      <td>0.020563</td>\n",
       "      <td>0.492645</td>\n",
       "      <td>...</td>\n",
       "      <td>-0.019748</td>\n",
       "      <td>0.133306</td>\n",
       "      <td>0.026084</td>\n",
       "      <td>-0.038932</td>\n",
       "      <td>-0.019901</td>\n",
       "      <td>0.011732</td>\n",
       "      <td>0.020452</td>\n",
       "      <td>-0.007652</td>\n",
       "      <td>-0.018347</td>\n",
       "      <td>0.000475</td>\n",
       "    </tr>\n",
       "    <tr>\n",
       "      <th>Age</th>\n",
       "      <td>0.005070</td>\n",
       "      <td>0.004086</td>\n",
       "      <td>-0.012632</td>\n",
       "      <td>-0.017399</td>\n",
       "      <td>-0.072021</td>\n",
       "      <td>-0.004860</td>\n",
       "      <td>-0.490109</td>\n",
       "      <td>0.340508</td>\n",
       "      <td>0.254077</td>\n",
       "      <td>0.358063</td>\n",
       "      <td>...</td>\n",
       "      <td>0.092019</td>\n",
       "      <td>0.069357</td>\n",
       "      <td>-0.061502</td>\n",
       "      <td>0.009482</td>\n",
       "      <td>-0.001341</td>\n",
       "      <td>-0.012329</td>\n",
       "      <td>0.008820</td>\n",
       "      <td>0.016059</td>\n",
       "      <td>0.021567</td>\n",
       "      <td>0.002185</td>\n",
       "    </tr>\n",
       "    <tr>\n",
       "      <th>Income</th>\n",
       "      <td>-0.000873</td>\n",
       "      <td>-0.002272</td>\n",
       "      <td>0.007400</td>\n",
       "      <td>0.024225</td>\n",
       "      <td>0.051800</td>\n",
       "      <td>-0.034238</td>\n",
       "      <td>0.167306</td>\n",
       "      <td>0.410633</td>\n",
       "      <td>-0.701749</td>\n",
       "      <td>0.362285</td>\n",
       "      <td>...</td>\n",
       "      <td>-0.039235</td>\n",
       "      <td>-0.114782</td>\n",
       "      <td>0.010126</td>\n",
       "      <td>-0.058476</td>\n",
       "      <td>-0.004633</td>\n",
       "      <td>0.000670</td>\n",
       "      <td>0.013247</td>\n",
       "      <td>0.004827</td>\n",
       "      <td>0.001298</td>\n",
       "      <td>0.001734</td>\n",
       "    </tr>\n",
       "    <tr>\n",
       "      <th>Outage_sec_perweek</th>\n",
       "      <td>-0.013735</td>\n",
       "      <td>0.000195</td>\n",
       "      <td>0.019272</td>\n",
       "      <td>-0.047173</td>\n",
       "      <td>0.404985</td>\n",
       "      <td>0.575669</td>\n",
       "      <td>0.041002</td>\n",
       "      <td>0.021814</td>\n",
       "      <td>-0.013759</td>\n",
       "      <td>0.006793</td>\n",
       "      <td>...</td>\n",
       "      <td>0.671523</td>\n",
       "      <td>0.164355</td>\n",
       "      <td>-0.123329</td>\n",
       "      <td>0.011730</td>\n",
       "      <td>-0.014749</td>\n",
       "      <td>-0.018087</td>\n",
       "      <td>0.010968</td>\n",
       "      <td>-0.004123</td>\n",
       "      <td>0.000781</td>\n",
       "      <td>-0.000624</td>\n",
       "    </tr>\n",
       "    <tr>\n",
       "      <th>Email</th>\n",
       "      <td>0.008819</td>\n",
       "      <td>-0.004337</td>\n",
       "      <td>-0.024412</td>\n",
       "      <td>-0.006065</td>\n",
       "      <td>-0.088799</td>\n",
       "      <td>0.126892</td>\n",
       "      <td>-0.108678</td>\n",
       "      <td>-0.656267</td>\n",
       "      <td>0.083363</td>\n",
       "      <td>0.563813</td>\n",
       "      <td>...</td>\n",
       "      <td>-0.087029</td>\n",
       "      <td>0.134843</td>\n",
       "      <td>0.072636</td>\n",
       "      <td>-0.017545</td>\n",
       "      <td>-0.016183</td>\n",
       "      <td>0.006629</td>\n",
       "      <td>-0.015666</td>\n",
       "      <td>0.001024</td>\n",
       "      <td>0.005607</td>\n",
       "      <td>-0.003237</td>\n",
       "    </tr>\n",
       "    <tr>\n",
       "      <th>Contacts</th>\n",
       "      <td>-0.008451</td>\n",
       "      <td>-0.010349</td>\n",
       "      <td>-0.000432</td>\n",
       "      <td>-0.011705</td>\n",
       "      <td>-0.045885</td>\n",
       "      <td>0.025840</td>\n",
       "      <td>-0.525484</td>\n",
       "      <td>0.156946</td>\n",
       "      <td>-0.135355</td>\n",
       "      <td>0.322084</td>\n",
       "      <td>...</td>\n",
       "      <td>0.013622</td>\n",
       "      <td>0.007556</td>\n",
       "      <td>0.037937</td>\n",
       "      <td>-0.036263</td>\n",
       "      <td>-0.003887</td>\n",
       "      <td>-0.026234</td>\n",
       "      <td>0.020794</td>\n",
       "      <td>-0.000675</td>\n",
       "      <td>-0.002786</td>\n",
       "      <td>0.002123</td>\n",
       "    </tr>\n",
       "    <tr>\n",
       "      <th>Yearly_equip_failure</th>\n",
       "      <td>-0.007861</td>\n",
       "      <td>0.004847</td>\n",
       "      <td>0.019775</td>\n",
       "      <td>0.008369</td>\n",
       "      <td>0.043414</td>\n",
       "      <td>0.034793</td>\n",
       "      <td>0.276183</td>\n",
       "      <td>0.479954</td>\n",
       "      <td>0.625729</td>\n",
       "      <td>0.208927</td>\n",
       "      <td>...</td>\n",
       "      <td>-0.132348</td>\n",
       "      <td>0.027763</td>\n",
       "      <td>0.033070</td>\n",
       "      <td>0.004632</td>\n",
       "      <td>-0.014259</td>\n",
       "      <td>-0.000702</td>\n",
       "      <td>0.007605</td>\n",
       "      <td>-0.021216</td>\n",
       "      <td>-0.002549</td>\n",
       "      <td>0.002976</td>\n",
       "    </tr>\n",
       "    <tr>\n",
       "      <th>Tenure</th>\n",
       "      <td>-0.010553</td>\n",
       "      <td>-0.271881</td>\n",
       "      <td>0.646288</td>\n",
       "      <td>-0.069427</td>\n",
       "      <td>-0.030264</td>\n",
       "      <td>-0.048459</td>\n",
       "      <td>-0.017542</td>\n",
       "      <td>-0.011476</td>\n",
       "      <td>0.002533</td>\n",
       "      <td>0.007083</td>\n",
       "      <td>...</td>\n",
       "      <td>0.031471</td>\n",
       "      <td>0.027991</td>\n",
       "      <td>0.001781</td>\n",
       "      <td>-0.010330</td>\n",
       "      <td>0.007513</td>\n",
       "      <td>-0.012186</td>\n",
       "      <td>0.006811</td>\n",
       "      <td>0.005017</td>\n",
       "      <td>-0.703786</td>\n",
       "      <td>-0.041184</td>\n",
       "    </tr>\n",
       "    <tr>\n",
       "      <th>MonthlyCharge</th>\n",
       "      <td>-0.000418</td>\n",
       "      <td>-0.028139</td>\n",
       "      <td>0.034814</td>\n",
       "      <td>-0.025585</td>\n",
       "      <td>0.348089</td>\n",
       "      <td>0.606044</td>\n",
       "      <td>-0.084389</td>\n",
       "      <td>0.010999</td>\n",
       "      <td>-0.022079</td>\n",
       "      <td>-0.039029</td>\n",
       "      <td>...</td>\n",
       "      <td>-0.647093</td>\n",
       "      <td>-0.220847</td>\n",
       "      <td>0.051144</td>\n",
       "      <td>0.010318</td>\n",
       "      <td>-0.013137</td>\n",
       "      <td>0.000930</td>\n",
       "      <td>0.020555</td>\n",
       "      <td>-0.012893</td>\n",
       "      <td>-0.048301</td>\n",
       "      <td>0.000290</td>\n",
       "    </tr>\n",
       "    <tr>\n",
       "      <th>Bandwidth_GB_Year</th>\n",
       "      <td>-0.012470</td>\n",
       "      <td>-0.272304</td>\n",
       "      <td>0.647950</td>\n",
       "      <td>-0.071669</td>\n",
       "      <td>-0.001008</td>\n",
       "      <td>-0.009490</td>\n",
       "      <td>0.005958</td>\n",
       "      <td>-0.015396</td>\n",
       "      <td>-0.004627</td>\n",
       "      <td>0.003865</td>\n",
       "      <td>...</td>\n",
       "      <td>-0.015458</td>\n",
       "      <td>0.012861</td>\n",
       "      <td>0.013654</td>\n",
       "      <td>0.001990</td>\n",
       "      <td>0.003354</td>\n",
       "      <td>-0.001607</td>\n",
       "      <td>-0.007560</td>\n",
       "      <td>0.007241</td>\n",
       "      <td>0.705679</td>\n",
       "      <td>0.039204</td>\n",
       "    </tr>\n",
       "    <tr>\n",
       "      <th>item1</th>\n",
       "      <td>0.458921</td>\n",
       "      <td>-0.028358</td>\n",
       "      <td>0.021715</td>\n",
       "      <td>0.279398</td>\n",
       "      <td>0.027406</td>\n",
       "      <td>0.020133</td>\n",
       "      <td>0.001443</td>\n",
       "      <td>0.006383</td>\n",
       "      <td>0.017234</td>\n",
       "      <td>-0.003704</td>\n",
       "      <td>...</td>\n",
       "      <td>-0.010488</td>\n",
       "      <td>0.008139</td>\n",
       "      <td>-0.068894</td>\n",
       "      <td>-0.118698</td>\n",
       "      <td>-0.048265</td>\n",
       "      <td>0.024227</td>\n",
       "      <td>-0.239131</td>\n",
       "      <td>0.793086</td>\n",
       "      <td>-0.003067</td>\n",
       "      <td>0.001805</td>\n",
       "    </tr>\n",
       "    <tr>\n",
       "      <th>item2</th>\n",
       "      <td>0.433923</td>\n",
       "      <td>-0.016136</td>\n",
       "      <td>0.038854</td>\n",
       "      <td>0.282014</td>\n",
       "      <td>0.013106</td>\n",
       "      <td>0.014529</td>\n",
       "      <td>-0.020745</td>\n",
       "      <td>0.010229</td>\n",
       "      <td>-0.001676</td>\n",
       "      <td>-0.000378</td>\n",
       "      <td>...</td>\n",
       "      <td>-0.006640</td>\n",
       "      <td>0.020223</td>\n",
       "      <td>-0.110396</td>\n",
       "      <td>-0.171608</td>\n",
       "      <td>-0.070961</td>\n",
       "      <td>0.068324</td>\n",
       "      <td>-0.590746</td>\n",
       "      <td>-0.573152</td>\n",
       "      <td>-0.003220</td>\n",
       "      <td>0.003869</td>\n",
       "    </tr>\n",
       "    <tr>\n",
       "      <th>item3</th>\n",
       "      <td>0.400836</td>\n",
       "      <td>-0.025650</td>\n",
       "      <td>0.025961</td>\n",
       "      <td>0.280485</td>\n",
       "      <td>0.005955</td>\n",
       "      <td>-0.017963</td>\n",
       "      <td>-0.006203</td>\n",
       "      <td>-0.037167</td>\n",
       "      <td>0.022762</td>\n",
       "      <td>-0.019090</td>\n",
       "      <td>...</td>\n",
       "      <td>-0.007351</td>\n",
       "      <td>-0.025936</td>\n",
       "      <td>-0.174121</td>\n",
       "      <td>-0.246669</td>\n",
       "      <td>-0.145693</td>\n",
       "      <td>-0.392320</td>\n",
       "      <td>0.676577</td>\n",
       "      <td>-0.176915</td>\n",
       "      <td>0.014876</td>\n",
       "      <td>-0.005808</td>\n",
       "    </tr>\n",
       "    <tr>\n",
       "      <th>item4</th>\n",
       "      <td>0.145455</td>\n",
       "      <td>0.053860</td>\n",
       "      <td>-0.030011</td>\n",
       "      <td>-0.565913</td>\n",
       "      <td>0.017172</td>\n",
       "      <td>-0.049138</td>\n",
       "      <td>-0.012216</td>\n",
       "      <td>-0.007677</td>\n",
       "      <td>0.017427</td>\n",
       "      <td>-0.026674</td>\n",
       "      <td>...</td>\n",
       "      <td>-0.020932</td>\n",
       "      <td>-0.024712</td>\n",
       "      <td>-0.170593</td>\n",
       "      <td>-0.476036</td>\n",
       "      <td>-0.446844</td>\n",
       "      <td>0.431337</td>\n",
       "      <td>0.087901</td>\n",
       "      <td>0.018102</td>\n",
       "      <td>0.001619</td>\n",
       "      <td>0.001517</td>\n",
       "    </tr>\n",
       "    <tr>\n",
       "      <th>item5</th>\n",
       "      <td>-0.175323</td>\n",
       "      <td>-0.058431</td>\n",
       "      <td>0.045313</td>\n",
       "      <td>0.585224</td>\n",
       "      <td>0.005891</td>\n",
       "      <td>0.027718</td>\n",
       "      <td>-0.037298</td>\n",
       "      <td>0.002147</td>\n",
       "      <td>0.006163</td>\n",
       "      <td>-0.009748</td>\n",
       "      <td>...</td>\n",
       "      <td>0.045398</td>\n",
       "      <td>-0.002254</td>\n",
       "      <td>0.130339</td>\n",
       "      <td>0.062748</td>\n",
       "      <td>-0.208116</td>\n",
       "      <td>0.694655</td>\n",
       "      <td>0.261129</td>\n",
       "      <td>-0.042760</td>\n",
       "      <td>-0.003079</td>\n",
       "      <td>0.002747</td>\n",
       "    </tr>\n",
       "    <tr>\n",
       "      <th>item6</th>\n",
       "      <td>0.404663</td>\n",
       "      <td>0.036281</td>\n",
       "      <td>0.002843</td>\n",
       "      <td>-0.181951</td>\n",
       "      <td>-0.013371</td>\n",
       "      <td>0.016879</td>\n",
       "      <td>0.008887</td>\n",
       "      <td>0.004139</td>\n",
       "      <td>-0.001945</td>\n",
       "      <td>0.022406</td>\n",
       "      <td>...</td>\n",
       "      <td>-0.005335</td>\n",
       "      <td>0.010160</td>\n",
       "      <td>-0.066315</td>\n",
       "      <td>0.058500</td>\n",
       "      <td>0.757664</td>\n",
       "      <td>0.404991</td>\n",
       "      <td>0.224136</td>\n",
       "      <td>-0.064977</td>\n",
       "      <td>0.001418</td>\n",
       "      <td>-0.000360</td>\n",
       "    </tr>\n",
       "    <tr>\n",
       "      <th>item7</th>\n",
       "      <td>0.358069</td>\n",
       "      <td>0.021475</td>\n",
       "      <td>0.005664</td>\n",
       "      <td>-0.179712</td>\n",
       "      <td>0.001126</td>\n",
       "      <td>-0.039893</td>\n",
       "      <td>0.009189</td>\n",
       "      <td>0.005002</td>\n",
       "      <td>-0.046504</td>\n",
       "      <td>0.042884</td>\n",
       "      <td>...</td>\n",
       "      <td>-0.032121</td>\n",
       "      <td>0.013566</td>\n",
       "      <td>-0.166241</td>\n",
       "      <td>0.808304</td>\n",
       "      <td>-0.373345</td>\n",
       "      <td>0.067918</td>\n",
       "      <td>0.065585</td>\n",
       "      <td>-0.041035</td>\n",
       "      <td>-0.006664</td>\n",
       "      <td>-0.001506</td>\n",
       "    </tr>\n",
       "    <tr>\n",
       "      <th>item8</th>\n",
       "      <td>0.308604</td>\n",
       "      <td>0.021441</td>\n",
       "      <td>-0.008583</td>\n",
       "      <td>-0.131865</td>\n",
       "      <td>-0.038894</td>\n",
       "      <td>0.062066</td>\n",
       "      <td>0.002840</td>\n",
       "      <td>0.048833</td>\n",
       "      <td>0.000351</td>\n",
       "      <td>-0.047700</td>\n",
       "      <td>...</td>\n",
       "      <td>0.139432</td>\n",
       "      <td>-0.016273</td>\n",
       "      <td>0.913970</td>\n",
       "      <td>-0.017446</td>\n",
       "      <td>-0.108536</td>\n",
       "      <td>-0.043904</td>\n",
       "      <td>0.046246</td>\n",
       "      <td>-0.043132</td>\n",
       "      <td>-0.002867</td>\n",
       "      <td>-0.002234</td>\n",
       "    </tr>\n",
       "  </tbody>\n",
       "</table>\n",
       "<p>22 rows × 22 columns</p>\n",
       "</div>"
      ],
      "text/plain": [
       "                           PC1       PC2       PC3       PC4       PC5  \\\n",
       "Zip                  -0.018857  0.640196  0.274515  0.044818 -0.106838   \n",
       "Lat                  -0.001599  0.063060  0.006528  0.007661  0.604093   \n",
       "Lng                   0.016820 -0.645631 -0.274957 -0.043551  0.022623   \n",
       "Population            0.000251 -0.096550 -0.052923 -0.014276 -0.535631   \n",
       "Children              0.000736 -0.026545 -0.012707  0.007702  0.165599   \n",
       "Age                   0.005070  0.004086 -0.012632 -0.017399 -0.072021   \n",
       "Income               -0.000873 -0.002272  0.007400  0.024225  0.051800   \n",
       "Outage_sec_perweek   -0.013735  0.000195  0.019272 -0.047173  0.404985   \n",
       "Email                 0.008819 -0.004337 -0.024412 -0.006065 -0.088799   \n",
       "Contacts             -0.008451 -0.010349 -0.000432 -0.011705 -0.045885   \n",
       "Yearly_equip_failure -0.007861  0.004847  0.019775  0.008369  0.043414   \n",
       "Tenure               -0.010553 -0.271881  0.646288 -0.069427 -0.030264   \n",
       "MonthlyCharge        -0.000418 -0.028139  0.034814 -0.025585  0.348089   \n",
       "Bandwidth_GB_Year    -0.012470 -0.272304  0.647950 -0.071669 -0.001008   \n",
       "item1                 0.458921 -0.028358  0.021715  0.279398  0.027406   \n",
       "item2                 0.433923 -0.016136  0.038854  0.282014  0.013106   \n",
       "item3                 0.400836 -0.025650  0.025961  0.280485  0.005955   \n",
       "item4                 0.145455  0.053860 -0.030011 -0.565913  0.017172   \n",
       "item5                -0.175323 -0.058431  0.045313  0.585224  0.005891   \n",
       "item6                 0.404663  0.036281  0.002843 -0.181951 -0.013371   \n",
       "item7                 0.358069  0.021475  0.005664 -0.179712  0.001126   \n",
       "item8                 0.308604  0.021441 -0.008583 -0.131865 -0.038894   \n",
       "\n",
       "                           PC6       PC7       PC8       PC9      PC10  ...  \\\n",
       "Zip                   0.071944  0.031719  0.000492 -0.005511  0.022139  ...   \n",
       "Lat                  -0.349158 -0.176803  0.012347 -0.058159 -0.109777  ...   \n",
       "Lng                  -0.021301 -0.005119  0.002327  0.017931 -0.000857  ...   \n",
       "Population            0.363898  0.109653  0.142259 -0.134156 -0.112202  ...   \n",
       "Children             -0.099441  0.558512 -0.066208  0.020563  0.492645  ...   \n",
       "Age                  -0.004860 -0.490109  0.340508  0.254077  0.358063  ...   \n",
       "Income               -0.034238  0.167306  0.410633 -0.701749  0.362285  ...   \n",
       "Outage_sec_perweek    0.575669  0.041002  0.021814 -0.013759  0.006793  ...   \n",
       "Email                 0.126892 -0.108678 -0.656267  0.083363  0.563813  ...   \n",
       "Contacts              0.025840 -0.525484  0.156946 -0.135355  0.322084  ...   \n",
       "Yearly_equip_failure  0.034793  0.276183  0.479954  0.625729  0.208927  ...   \n",
       "Tenure               -0.048459 -0.017542 -0.011476  0.002533  0.007083  ...   \n",
       "MonthlyCharge         0.606044 -0.084389  0.010999 -0.022079 -0.039029  ...   \n",
       "Bandwidth_GB_Year    -0.009490  0.005958 -0.015396 -0.004627  0.003865  ...   \n",
       "item1                 0.020133  0.001443  0.006383  0.017234 -0.003704  ...   \n",
       "item2                 0.014529 -0.020745  0.010229 -0.001676 -0.000378  ...   \n",
       "item3                -0.017963 -0.006203 -0.037167  0.022762 -0.019090  ...   \n",
       "item4                -0.049138 -0.012216 -0.007677  0.017427 -0.026674  ...   \n",
       "item5                 0.027718 -0.037298  0.002147  0.006163 -0.009748  ...   \n",
       "item6                 0.016879  0.008887  0.004139 -0.001945  0.022406  ...   \n",
       "item7                -0.039893  0.009189  0.005002 -0.046504  0.042884  ...   \n",
       "item8                 0.062066  0.002840  0.048833  0.000351 -0.047700  ...   \n",
       "\n",
       "                          PC13      PC14      PC15      PC16      PC17  \\\n",
       "Zip                   0.002398 -0.029411 -0.012342 -0.006171 -0.012355   \n",
       "Lat                  -0.200539  0.623343  0.088237 -0.006956  0.017977   \n",
       "Lng                   0.029223 -0.084953 -0.002360  0.006683  0.009532   \n",
       "Population           -0.170708  0.685233 -0.030817 -0.028835 -0.035797   \n",
       "Children             -0.019748  0.133306  0.026084 -0.038932 -0.019901   \n",
       "Age                   0.092019  0.069357 -0.061502  0.009482 -0.001341   \n",
       "Income               -0.039235 -0.114782  0.010126 -0.058476 -0.004633   \n",
       "Outage_sec_perweek    0.671523  0.164355 -0.123329  0.011730 -0.014749   \n",
       "Email                -0.087029  0.134843  0.072636 -0.017545 -0.016183   \n",
       "Contacts              0.013622  0.007556  0.037937 -0.036263 -0.003887   \n",
       "Yearly_equip_failure -0.132348  0.027763  0.033070  0.004632 -0.014259   \n",
       "Tenure                0.031471  0.027991  0.001781 -0.010330  0.007513   \n",
       "MonthlyCharge        -0.647093 -0.220847  0.051144  0.010318 -0.013137   \n",
       "Bandwidth_GB_Year    -0.015458  0.012861  0.013654  0.001990  0.003354   \n",
       "item1                -0.010488  0.008139 -0.068894 -0.118698 -0.048265   \n",
       "item2                -0.006640  0.020223 -0.110396 -0.171608 -0.070961   \n",
       "item3                -0.007351 -0.025936 -0.174121 -0.246669 -0.145693   \n",
       "item4                -0.020932 -0.024712 -0.170593 -0.476036 -0.446844   \n",
       "item5                 0.045398 -0.002254  0.130339  0.062748 -0.208116   \n",
       "item6                -0.005335  0.010160 -0.066315  0.058500  0.757664   \n",
       "item7                -0.032121  0.013566 -0.166241  0.808304 -0.373345   \n",
       "item8                 0.139432 -0.016273  0.913970 -0.017446 -0.108536   \n",
       "\n",
       "                          PC18      PC19      PC20      PC21      PC22  \n",
       "Zip                  -0.002884 -0.003716  0.010657  0.038797 -0.700159  \n",
       "Lat                  -0.005654  0.020434 -0.004895  0.007603 -0.112268  \n",
       "Lng                   0.011353 -0.009383 -0.009367  0.040591 -0.702603  \n",
       "Population            0.001980  0.030228  0.003641  0.000951 -0.013681  \n",
       "Children              0.011732  0.020452 -0.007652 -0.018347  0.000475  \n",
       "Age                  -0.012329  0.008820  0.016059  0.021567  0.002185  \n",
       "Income                0.000670  0.013247  0.004827  0.001298  0.001734  \n",
       "Outage_sec_perweek   -0.018087  0.010968 -0.004123  0.000781 -0.000624  \n",
       "Email                 0.006629 -0.015666  0.001024  0.005607 -0.003237  \n",
       "Contacts             -0.026234  0.020794 -0.000675 -0.002786  0.002123  \n",
       "Yearly_equip_failure -0.000702  0.007605 -0.021216 -0.002549  0.002976  \n",
       "Tenure               -0.012186  0.006811  0.005017 -0.703786 -0.041184  \n",
       "MonthlyCharge         0.000930  0.020555 -0.012893 -0.048301  0.000290  \n",
       "Bandwidth_GB_Year    -0.001607 -0.007560  0.007241  0.705679  0.039204  \n",
       "item1                 0.024227 -0.239131  0.793086 -0.003067  0.001805  \n",
       "item2                 0.068324 -0.590746 -0.573152 -0.003220  0.003869  \n",
       "item3                -0.392320  0.676577 -0.176915  0.014876 -0.005808  \n",
       "item4                 0.431337  0.087901  0.018102  0.001619  0.001517  \n",
       "item5                 0.694655  0.261129 -0.042760 -0.003079  0.002747  \n",
       "item6                 0.404991  0.224136 -0.064977  0.001418 -0.000360  \n",
       "item7                 0.067918  0.065585 -0.041035 -0.006664 -0.001506  \n",
       "item8                -0.043904  0.046246 -0.043132 -0.002867 -0.002234  \n",
       "\n",
       "[22 rows x 22 columns]"
      ]
     },
     "execution_count": 36,
     "metadata": {},
     "output_type": "execute_result"
    }
   ],
   "source": [
    "#PCA Loadings (Middleton, 2022b)\n",
    "loadings = pd.DataFrame(pca.components_.T, \n",
    "                        columns = ['PC1', 'PC2', 'PC3', 'PC4', 'PC5', 'PC6', 'PC7', 'PC8', 'PC9', 'PC10', 'PC11', 'PC12', 'PC13', 'PC14', 'PC15', 'PC16', 'PC17', 'PC18', 'PC19', 'PC20', 'PC21', 'PC22'],\n",
    "                        index = PCA_df_normalized.columns)\n",
    "loadings"
   ]
  },
  {
   "cell_type": "code",
   "execution_count": 37,
   "id": "008789c5",
   "metadata": {},
   "outputs": [],
   "source": [
    "#Use Kaiser Rule to create scree plot/elbow charts of eigenvalues to determine which PCs should be kept (>1) (Middleton, 2022b)\n",
    "cov_matrix = np.dot(PCA_df_normalized.T, PCA_df_normalized) / PCA_df.shape[0]\n",
    "eigenvalues = [np.dot(eigenvector.T, np.dot(cov_matrix, eigenvector)) for eigenvector in pca.components_]"
   ]
  },
  {
   "cell_type": "code",
   "execution_count": 38,
   "id": "f780e013",
   "metadata": {},
   "outputs": [
    {
     "data": {
      "image/png": "[encoded data removed]",
      "text/plain": [
       "<Figure size 1440x864 with 1 Axes>"
      ]
     },
     "metadata": {
      "needs_background": "light"
     },
     "output_type": "display_data"
    }
   ],
   "source": [
    "plt.figure(figsize=(20, 12))\n",
    "plt.plot(eigenvalues)\n",
    "ax1 = plt.subplot()\n",
    "ax1.set_xticks([0, 1, 2, 3, 4, 5, 6, 7, 8, 9, 10, 11, 12, 13, 14, 15, 16, 17, 18, 19, 20, 21])\n",
    "ax1.set_xticklabels(['PC1', 'PC2', 'PC3', 'PC4', 'PC5', 'PC6', 'PC7', 'PC8', 'PC9', 'PC10', 'PC11', 'PC12', 'PC13', 'PC14', 'PC15', 'PC16', 'PC17', 'PC18', 'PC19', 'PC20', 'PC21', 'PC22'], fontsize = 15)\n",
    "plt.xlabel('principle components', fontsize = 20)\n",
    "plt.ylabel('eigenvalues', fontsize = 20)\n",
    "plt.axhline(y=1, color='red')\n",
    "plt.show()"
   ]
  },
  {
   "cell_type": "code",
   "execution_count": 39,
   "id": "bd03f425",
   "metadata": {},
   "outputs": [],
   "source": [
    "df.to_csv('/Users/Amanda.Hartzler/Desktop/D206_PA.csv')"
   ]
  },
  {
   "cell_type": "code",
   "execution_count": null,
   "id": "89e9cf71",
   "metadata": {},
   "outputs": [],
   "source": []
  }
 ],
 "metadata": {
  "kernelspec": {
   "display_name": "Python 3 (ipykernel)",
   "language": "python",
   "name": "python3"
  },
  "language_info": {
   "codemirror_mode": {
    "name": "ipython",
    "version": 3
   },
   "file_extension": ".py",
   "mimetype": "text/x-python",
   "name": "python",
   "nbconvert_exporter": "python",
   "pygments_lexer": "ipython3",
   "version": "3.9.7"
  }
 },
 "nbformat": 4,
 "nbformat_minor": 5
}
